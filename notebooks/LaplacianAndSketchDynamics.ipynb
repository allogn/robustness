{
 "cells": [
  {
   "cell_type": "code",
   "execution_count": 2,
   "metadata": {},
   "outputs": [],
   "source": [
    "%load_ext autoreload"
   ]
  },
  {
   "cell_type": "code",
   "execution_count": 3,
   "metadata": {},
   "outputs": [],
   "source": [
    "import matplotlib.pyplot as plt\n",
    "import pandas as pd\n",
    "import seaborn as sns\n",
    "import numpy as np\n",
    "from collections import defaultdict\n",
    "from tqdm import tqdm,tqdm_notebook\n",
    "%matplotlib inline\n",
    "\n",
    "import sys, os\n",
    "sys.path.append(os.path.dirname(os.path.abspath('')))\n",
    "sys.path.append(os.path.join(os.path.abspath(''),'..','scripts'))\n",
    "sys.path.append(os.path.join(os.path.abspath(''),'..','src'))\n",
    "\n",
    "sns.set_style(\"whitegrid\")\n",
    "SMALL_SIZE = 18\n",
    "MEDIUM_SIZE = 20\n",
    "BIGGER_SIZE = 22\n",
    "\n",
    "plt.rc('font', size=SMALL_SIZE)          # controls default text sizes\n",
    "plt.rc('axes', titlesize=SMALL_SIZE)     # fontsize of the axes title\n",
    "plt.rc('axes', labelsize=MEDIUM_SIZE)    # fontsize of the x and y labels\n",
    "plt.rc('xtick', labelsize=SMALL_SIZE)    # fontsize of the tick labels\n",
    "plt.rc('ytick', labelsize=SMALL_SIZE)    # fontsize of the tick labels\n",
    "plt.rc('legend', fontsize=SMALL_SIZE)    # legend fontsize\n",
    "plt.rc('figure', titlesize=BIGGER_SIZE)  # fontsize of the figure title\n",
    "\n",
    "from Generator import *\n",
    "from RobustWrapper import *\n",
    "from Simulator import *\n",
    "from NetShieldSolver import *\n",
    "from DegreeSolver import *\n",
    "from RandomSolver import *\n",
    "%autoreload 2"
   ]
  },
  {
   "cell_type": "markdown",
   "metadata": {},
   "source": [
    "# Laplacian Study\n",
    "Laplacian matrix may provide a scalable approach to both robust influence maximization and topology consolidation. In this experiment we compare seeds that are selected by the IMM algorithm to seeds that maximize $\\mathbb{E}[\\xi]$ of a possible world scenario. \n",
    "\n",
    "Let us consider a small BA graph with powerlaw distribution, with small probability values of 0.2."
   ]
  },
  {
   "cell_type": "code",
   "execution_count": 262,
   "metadata": {},
   "outputs": [],
   "source": [
    "# graph_params = {\n",
    "#     'graph_type': 'powerlaw_cluster',\n",
    "#     'random_weight': 0,\n",
    "#     'both_directions': 1,\n",
    "#     'weight_scale': 0.1,\n",
    "#     'n': 1000,\n",
    "#     'm': 10,\n",
    "#     'p': 0.2\n",
    "# }\n",
    "graph_params = {\n",
    "    \"graph_type\": \"powerlaw_cluster\",\n",
    "    \"weight_scale\": 0.1,\n",
    "    \"both_directions\": 1,\n",
    "    \"random_weight\": 1,\n",
    "    \"n\": 1000,\n",
    "    \"p\": 0.4,\n",
    "    \"m\": 2\n",
    "}\n",
    "\n"
   ]
  },
  {
   "cell_type": "code",
   "execution_count": 263,
   "metadata": {},
   "outputs": [],
   "source": [
    "G = Generator(graph_params).get()"
   ]
  },
  {
   "cell_type": "markdown",
   "metadata": {},
   "source": [
    "Below, we see the spectrum of Laplacian matrix. The spectrum follows powerlaw distribution as well, therefore significant fraction may be pruned (as future work)."
   ]
  },
  {
   "cell_type": "code",
   "execution_count": 264,
   "metadata": {},
   "outputs": [],
   "source": [
    "L_spect = nx.laplacian_spectrum(G.to_undirected())"
   ]
  },
  {
   "cell_type": "code",
   "execution_count": 265,
   "metadata": {},
   "outputs": [
    {
     "data": {
      "image/png": "[encoded data removed]",
      "text/plain": [
       "<Figure size 432x288 with 1 Axes>"
      ]
     },
     "metadata": {
      "needs_background": "light"
     },
     "output_type": "display_data"
    }
   ],
   "source": [
    "a = pd.Series(L_spect).hist(bins=30)"
   ]
  },
  {
   "cell_type": "code",
   "execution_count": 266,
   "metadata": {},
   "outputs": [],
   "source": [
    "number_of_seeds = 5"
   ]
  },
  {
   "cell_type": "markdown",
   "metadata": {},
   "source": [
    "Now we run two algorithms to find 3 seeds. Although we select a small number of seeds, due to the type of the graph, they active more than 70\\% of the graph."
   ]
  },
  {
   "cell_type": "code",
   "execution_count": 267,
   "metadata": {},
   "outputs": [
    {
     "name": "stdout",
     "output_type": "stream",
     "text": [
      "Collecting RR for non-blocked graph \n",
      "########## Step1 ########## \n",
      "build_hyper_graph_r R=12626 \n",
      "Collected  seedSet.size()=10  optimal seeds \n",
      "x=1 estimate_influence=39.9145 ept=0.0399145 g.n=1000 \n",
      "build_hyper_graph_r R=25253 \n",
      "Collected  seedSet.size()=10  optimal seeds \n",
      "x=2 estimate_influence=37.895 ept=0.037895 g.n=1000 \n",
      "build_hyper_graph_r R=50507 \n",
      "Collected  seedSet.size()=10  optimal seeds \n",
      "x=3 estimate_influence=37.598 ept=0.037598 g.n=1000 \n",
      "build_hyper_graph_r R=101015 \n",
      "Collected  seedSet.size()=10  optimal seeds \n",
      "x=4 estimate_influence=37.0238 ept=0.0370238 g.n=1000 \n",
      "build_hyper_graph_r R=202031 \n",
      "Collected  seedSet.size()=10  optimal seeds \n",
      "x=5 estimate_influence=36.7071 ept=0.0367071 g.n=1000 \n",
      "########## Step2 ########## \n",
      "opt_lower_bound=32.1591 \n",
      "R=17567 \n",
      "build_hyper_graph_r R=17567 \n",
      "step2 finish \n",
      "Collected  seedSet.size()=10  optimal seeds \n",
      "Imm Seeds calculated \n",
      "Done. \n"
     ]
    }
   ],
   "source": [
    "result = {}\n",
    "result[\"imm\"] = RobustWrapper.run_imm(G, epsilon=0.1, number_of_seeds=number_of_seeds*2, reward_type=0)"
   ]
  },
  {
   "cell_type": "code",
   "execution_count": 268,
   "metadata": {},
   "outputs": [
    {
     "name": "stdout",
     "output_type": "stream",
     "text": [
      "Collecting RR for non-blocked graph \n",
      "build_hyper_graph_r R=10000 \n",
      "Collected  seedSet.size()=10  optimal seeds \n",
      "Imm Seeds calculated \n",
      "Done. \n"
     ]
    }
   ],
   "source": [
    "result['lapl'] = RobustWrapper.run_imm(G, epsilon=0.1, number_of_seeds=number_of_seeds*2, reward_type=1)"
   ]
  },
  {
   "cell_type": "code",
   "execution_count": 269,
   "metadata": {},
   "outputs": [],
   "source": [
    "advs = {}\n",
    "\n",
    "K = 5\n",
    "\n",
    "ns_s = NetShieldSolver(G,k=K)\n",
    "ns_s.run()\n",
    "advs[\"NetShield\"] = ns_s.log[\"Blocked nodes\"]\n",
    "\n",
    "deg_s = DegreeSolver(G,k=K)\n",
    "deg_s.run()\n",
    "advs[\"Degree\"] = deg_s.log[\"Blocked nodes\"]\n",
    "\n",
    "\n",
    "rn_s = RandomSolver(G,k=K)\n",
    "rn_s.run()\n",
    "advs[\"Random\"] = rn_s.log[\"Blocked nodes\"]"
   ]
  },
  {
   "cell_type": "code",
   "execution_count": null,
   "metadata": {},
   "outputs": [],
   "source": [
    "RobustWrapper.run_singlegreedy(G, epsilon=0.2, number_of_seeds=number_of_seeds, blocked_dic_of_nodes=advs, beta=0.5, gamma=0.5)"
   ]
  },
  {
   "cell_type": "code",
   "execution_count": null,
   "metadata": {},
   "outputs": [],
   "source": [
    "RobustWrapper.run_singlegreedy(G, epsilon=0.15,\n",
    "                               number_of_seeds=number_of_seeds,\n",
    "                               blocked_dic_of_nodes=advs, beta=1, gamma=0.001)"
   ]
  },
  {
   "cell_type": "markdown",
   "metadata": {},
   "source": [
    "By running simulations, we observe that IMM gives a bit better result of the expected spread in the unblocked graph."
   ]
  },
  {
   "cell_type": "code",
   "execution_count": 275,
   "metadata": {},
   "outputs": [
    {
     "name": "stdout",
     "output_type": "stream",
     "text": [
      "10\n",
      "NetShield 6\n",
      "Degree 3\n",
      "Random 3\n",
      "0 blocked are seeds\n",
      "Collected  seeds.size()=3  seeds \n",
      "7.8273, 3.06109\n",
      "Done. \n",
      "0 blocked are seeds\n",
      "Collected  seeds.size()=3  seeds \n",
      "7.4012, 2.65233\n",
      "Done. \n",
      "0 blocked are seeds\n",
      "Collected  seeds.size()=3  seeds \n",
      "8.2192, 4.01858\n",
      "Done. \n"
     ]
    },
    {
     "data": {
      "text/plain": [
       "0.0074012"
      ]
     },
     "execution_count": 275,
     "metadata": {},
     "output_type": "execute_result"
    }
   ],
   "source": [
    "r = try_blocked(G, result['imm']['imm']['seeds'], advs) # changed, moved to Simulator\n",
    "r"
   ]
  },
  {
   "cell_type": "code",
   "execution_count": 276,
   "metadata": {},
   "outputs": [
    {
     "name": "stdout",
     "output_type": "stream",
     "text": [
      "10\n",
      "NetShield 9\n",
      "Degree 8\n",
      "Random 8\n",
      "0 blocked are seeds\n",
      "Collected  seeds.size()=5  seeds \n",
      "9.9676, 3.33655\n",
      "Done. \n",
      "0 blocked are seeds\n",
      "Collected  seeds.size()=5  seeds \n",
      "9.0212, 2.56257\n",
      "Done. \n",
      "0 blocked are seeds\n",
      "Collected  seeds.size()=5  seeds \n",
      "10.6322, 4.19592\n",
      "Done. \n"
     ]
    },
    {
     "data": {
      "text/plain": [
       "0.0090212"
      ]
     },
     "execution_count": 276,
     "metadata": {},
     "output_type": "execute_result"
    }
   ],
   "source": [
    "r = try_blocked(G, result['lapl']['imm']['seeds'], advs)\n",
    "r"
   ]
  },
  {
   "cell_type": "markdown",
   "metadata": {},
   "source": [
    "# Correlation of the largest component with spread\n",
    "\n",
    "In this experiment I study the correlation between metric based on the expected largest component size (ROB), and the expected spread under IC in directed and undirected graphs.\n",
    "\n",
    "First, I study the relation between the size of the largest component if nodes are immunized in expectation, or after graph sampling. I show that the best seed-oblivious immunization technique (NetShield) applied to stochastic graph leads to a much smaller largest component than naive degree heuristic applied for each graph sample (a posteriori immunization). Furthermore, the a posteriori immunization is more sensitive to the number of influenced nodes, and converges to 0 within first 20% of nodes, while the a priori immunization does not converge to 0. This result highlihgts the importance of the fact, that if ROB is based on a posteriori immunization. Since the size of the behavior of the largest component differs so much between there two immunization types, it is unlikely that measurement based on one type will correlate with the objective based on another type.\n",
    "\n",
    "Second, I study the relation of the largest component of directed/undirected graph and the expected spread under IC model in *unblocked* graph. I show that for undirected graph these two measures are close, although not the same. But for directed graph, weakly and strongly connected component sizes differs significantly from the expected spread. The best measure for the directed graph is the maximum size of a tree, which is smaller than the size of the weakly connected component. This result shows that using connected components for directed graphs is probably not a good idea.\n",
    "\n",
    "Third, I study the correlation between the expected spread and ROB. Results show that ROB is better correlated with expected spread in unblocked graph, then with the worst-case expected spread of SatGreedy in blocked graph."
   ]
  },
  {
   "cell_type": "markdown",
   "metadata": {},
   "source": [
    "### A priori vs A Posteriori Immunization\n",
    "First, we want to compare the size of the largest component with immunization after sampling and before sampling."
   ]
  },
  {
   "cell_type": "code",
   "execution_count": 16,
   "metadata": {},
   "outputs": [],
   "source": [
    "# this defines input\n",
    "graph_params = {\n",
    "    \"graph_type\": \"powerlaw_cluster\",\n",
    "    \"weight_scale\": 0.1,\n",
    "    \"both_directions\": 1,\n",
    "    \"random_weight\": 0,\n",
    "    \"n\": 1000,\n",
    "    \"p\": 0.4,\n",
    "    \"m\": 2\n",
    "}\n",
    "GG = Generator(graph_params).get().to_undirected()"
   ]
  },
  {
   "cell_type": "code",
   "execution_count": 32,
   "metadata": {},
   "outputs": [],
   "source": [
    "# this gives us the best immunized nodes\n",
    "nss = NetShieldSolver(GG,k=len(G))\n",
    "nss.run()"
   ]
  },
  {
   "cell_type": "code",
   "execution_count": 207,
   "metadata": {},
   "outputs": [],
   "source": [
    "def get_mcsim_robust(G):\n",
    "    '''\n",
    "    This function calculates the robustness as sum of largest component sizes, averaged over MC iterations\n",
    "    '''\n",
    "    s = defaultdict(lambda: [])\n",
    "    for mc_it in tqdm_notebook(range(10)):\n",
    "        edges = [(e[0],e[1]) for e in G.edges(data=True) if e[2]['weight'] > np.random.random()]\n",
    "        G2 = G.edge_subgraph(edges).copy()\n",
    "        for i in range(len(G2)-1):\n",
    "            centrality = dict(G2.degree()) # nx.betweenness_centrality(GG)\n",
    "            worst_node = pd.Series(centrality).idxmax()\n",
    "            G2.remove_node(worst_node)\n",
    "            s[i].append(len(max(nx.connected_component_subgraphs(G2), key=len)))\n",
    "    return s"
   ]
  },
  {
   "cell_type": "code",
   "execution_count": 26,
   "metadata": {},
   "outputs": [
    {
     "data": {
      "application/vnd.jupyter.widget-view+json": {
       "model_id": "bb16fb43f2de4183b78bb49cbc9eceac",
       "version_major": 2,
       "version_minor": 0
      },
      "text/plain": [
       "HBox(children=(IntProgress(value=0, description='1st loop', max=10, style=ProgressStyle(description_width='ini…"
      ]
     },
     "metadata": {},
     "output_type": "display_data"
    },
    {
     "name": "stdout",
     "output_type": "stream",
     "text": [
      "\n"
     ]
    }
   ],
   "source": [
    "s = get_mcsim_robust(GG)"
   ]
  },
  {
   "cell_type": "code",
   "execution_count": 35,
   "metadata": {},
   "outputs": [
    {
     "data": {
      "text/plain": [
       "Text(0, 0.5, 'robustness E[S(Q)]')"
      ]
     },
     "execution_count": 35,
     "metadata": {},
     "output_type": "execute_result"
    },
    {
     "data": {
      "image/png": "[encoded data removed]",
      "text/plain": [
       "<Figure size 432x288 with 1 Axes>"
      ]
     },
     "metadata": {
      "needs_background": "light"
     },
     "output_type": "display_data"
    }
   ],
   "source": [
    "stats = [sum(s[ss]) for ss in s]\n",
    "plt.plot(np.array(stats)/10)\n",
    "plt.xlabel(\"Number of nodes removed from the network\")\n",
    "plt.ylabel(\"robustness E[S(Q)]\")"
   ]
  },
  {
   "cell_type": "code",
   "execution_count": 76,
   "metadata": {},
   "outputs": [],
   "source": [
    "best_seed = RobustWrapper.run_imm(GG, epsilon=0.3, number_of_seeds=10, reward_type=0, verbose=False)['imm']['seeds']"
   ]
  },
  {
   "cell_type": "code",
   "execution_count": 90,
   "metadata": {},
   "outputs": [],
   "source": [
    "def get_infl_max_ser(G):\n",
    "    s = []\n",
    "    for bl_iter in tqdm_notebook(range(200)):\n",
    "        sim = Simulator(GG, best_seed, 'C', blockable_seeds=True, number_of_seeds=-1)\n",
    "        sim.add_blocked('netshield', nss.log['Blocked nodes'][:bl_iter])\n",
    "        s.append(sim.run(100)['netshield']['mc_objective'])\n",
    "    return s"
   ]
  },
  {
   "cell_type": "code",
   "execution_count": 91,
   "metadata": {},
   "outputs": [
    {
     "data": {
      "application/vnd.jupyter.widget-view+json": {
       "model_id": "40995dd329784c3b8d5159e226657cb1",
       "version_major": 2,
       "version_minor": 0
      },
      "text/plain": [
       "HBox(children=(IntProgress(value=0, max=200), HTML(value='')))"
      ]
     },
     "metadata": {},
     "output_type": "display_data"
    },
    {
     "name": "stdout",
     "output_type": "stream",
     "text": [
      "\n"
     ]
    }
   ],
   "source": [
    "s = get_infl_max_ser(G)"
   ]
  },
  {
   "cell_type": "code",
   "execution_count": 93,
   "metadata": {},
   "outputs": [
    {
     "data": {
      "text/plain": [
       "Text(0, 0.5, 'I(S) for IM seed and static NetShield')"
      ]
     },
     "execution_count": 93,
     "metadata": {},
     "output_type": "execute_result"
    },
    {
     "data": {
      "image/png": "[encoded data removed]",
      "text/plain": [
       "<Figure size 432x288 with 1 Axes>"
      ]
     },
     "metadata": {
      "needs_background": "light"
     },
     "output_type": "display_data"
    }
   ],
   "source": [
    "plt.plot(np.array(s))\n",
    "plt.xlabel(\"Number of nodes removed from the network\")\n",
    "plt.ylabel(\"I(S) for IM seed and static NetShield\")"
   ]
  },
  {
   "cell_type": "markdown",
   "metadata": {},
   "source": [
    "We see that size of the network immunized after sampling is much smaller, then the network immunized in expectation. This is because latter is seed oblivious, and for small probabilities sampled networks often do not reached immunized nodes, as we see on the picture above. The line converges to 0 much slower than for posteriori immunization."
   ]
  },
  {
   "cell_type": "markdown",
   "metadata": {},
   "source": [
    "### Correlation with the largest component size\n",
    "Here we compare size of the expected largest component and size of spread of a single seed, with no immunized nodes.\n"
   ]
  },
  {
   "cell_type": "code",
   "execution_count": 242,
   "metadata": {},
   "outputs": [],
   "source": [
    "# directed case\n",
    "graph_params = {\n",
    "    \"graph_type\": \"powerlaw_cluster\",\n",
    "    \"weight_scale\": 0.1,\n",
    "    \"both_directions\": 0,\n",
    "    \"random_weight\": 0,\n",
    "    \"n\": 1000,\n",
    "    \"p\": 0.4,\n",
    "    \"m\": 2\n",
    "}\n",
    "G = Generator(graph_params).get()\n",
    "# Undirected case is when there are both directions with the same probabilities. If one succeed, another does not matter. If one does not succeed, another also does not matter because another will try to succeed only if another node is activated, but then they both are activated. It is not clear though if the possible world semantics hold."
   ]
  },
  {
   "cell_type": "code",
   "execution_count": 103,
   "metadata": {},
   "outputs": [
    {
     "data": {
      "application/vnd.jupyter.widget-view+json": {
       "model_id": "cab15dfe8d634e09ade55fc6d572d68f",
       "version_major": 2,
       "version_minor": 0
      },
      "text/plain": [
       "HBox(children=(IntProgress(value=0, max=1000), HTML(value='')))"
      ]
     },
     "metadata": {},
     "output_type": "display_data"
    },
    {
     "name": "stdout",
     "output_type": "stream",
     "text": [
      "\n"
     ]
    }
   ],
   "source": [
    "# strongly connected component\n",
    "s = []\n",
    "for i in tqdm_notebook(range(100)):\n",
    "    edges = [(e[0],e[1]) for e in G.edges(data=True) if e[2]['weight'] > np.random.random()]\n",
    "    G2 = G.edge_subgraph(edges).copy()\n",
    "    s.append(len(max(nx.strongly_connected_component_subgraphs(G2), key=len)))"
   ]
  },
  {
   "cell_type": "code",
   "execution_count": 108,
   "metadata": {},
   "outputs": [
    {
     "data": {
      "text/plain": [
       "<matplotlib.axes._subplots.AxesSubplot at 0x117916860>"
      ]
     },
     "execution_count": 108,
     "metadata": {},
     "output_type": "execute_result"
    },
    {
     "data": {
      "image/png": "[encoded data removed]",
      "text/plain": [
       "<Figure size 432x288 with 1 Axes>"
      ]
     },
     "metadata": {},
     "output_type": "display_data"
    }
   ],
   "source": [
    "pd.Series(s).hist()"
   ]
  },
  {
   "cell_type": "markdown",
   "metadata": {},
   "source": [
    "The picture shows the distribution of the size of largest strongly connected component. The distribution is due MC simulations. Strong component is very small."
   ]
  },
  {
   "cell_type": "code",
   "execution_count": 109,
   "metadata": {},
   "outputs": [
    {
     "data": {
      "application/vnd.jupyter.widget-view+json": {
       "model_id": "093c32dab1eb415fac1629ac731ab8db",
       "version_major": 2,
       "version_minor": 0
      },
      "text/plain": [
       "HBox(children=(IntProgress(value=0), HTML(value='')))"
      ]
     },
     "metadata": {},
     "output_type": "display_data"
    },
    {
     "name": "stdout",
     "output_type": "stream",
     "text": [
      "\n"
     ]
    }
   ],
   "source": [
    "# weakly connected component\n",
    "s = []\n",
    "for i in tqdm_notebook(range(100)):\n",
    "    edges = [(e[0],e[1]) for e in G.edges(data=True) if e[2]['weight'] > np.random.random()]\n",
    "    G2 = G.edge_subgraph(edges).copy()\n",
    "    s.append(len(max(nx.weakly_connected_component_subgraphs(G2), key=len)))"
   ]
  },
  {
   "cell_type": "code",
   "execution_count": 110,
   "metadata": {},
   "outputs": [
    {
     "data": {
      "text/plain": [
       "<matplotlib.axes._subplots.AxesSubplot at 0x1149b67f0>"
      ]
     },
     "execution_count": 110,
     "metadata": {},
     "output_type": "execute_result"
    },
    {
     "data": {
      "image/png": "[encoded data removed]",
      "text/plain": [
       "<Figure size 432x288 with 1 Axes>"
      ]
     },
     "metadata": {},
     "output_type": "display_data"
    }
   ],
   "source": [
    "pd.Series(s).hist()"
   ]
  },
  {
   "cell_type": "markdown",
   "metadata": {},
   "source": [
    "This is the size of the largest weakly connected component.  The distribution is due MC simulations."
   ]
  },
  {
   "cell_type": "code",
   "execution_count": 120,
   "metadata": {},
   "outputs": [
    {
     "data": {
      "text/plain": [
       "({'iterations': 100, 'mc_objective': 9.01, 'mc_objective_std': 3.86392},\n",
       " 'RR objective 8.53013362421598')"
      ]
     },
     "execution_count": 120,
     "metadata": {},
     "output_type": "execute_result"
    }
   ],
   "source": [
    "# compare with expected influence\n",
    "r = RobustWrapper.run_imm(GG, epsilon=0.15, number_of_seeds=1, reward_type=0, verbose=False)\n",
    "best_seed = r['imm']['seeds']\n",
    "sim = Simulator(GG, best_seed, 'C', blockable_seeds=True, number_of_seeds=-1)\n",
    "sim.run(100), \"RR objective {}\".format(r['imm']['objective'])"
   ]
  },
  {
   "cell_type": "markdown",
   "metadata": {},
   "source": [
    "We have very strange result: the largest weakly connected component is significantly larger than the expected spread of size 9\n",
    "\n",
    "In order to verify the result, we calculate participation of each node in the largest component over iterations."
   ]
  },
  {
   "cell_type": "code",
   "execution_count": 121,
   "metadata": {},
   "outputs": [
    {
     "data": {
      "application/vnd.jupyter.widget-view+json": {
       "model_id": "c4e15fd5246d4649bda754b23ac7604f",
       "version_major": 2,
       "version_minor": 0
      },
      "text/plain": [
       "HBox(children=(IntProgress(value=0), HTML(value='')))"
      ]
     },
     "metadata": {},
     "output_type": "display_data"
    },
    {
     "name": "stdout",
     "output_type": "stream",
     "text": [
      "\n"
     ]
    }
   ],
   "source": [
    "participation = defaultdict(lambda: 0)\n",
    "for i in tqdm_notebook(range(100)):\n",
    "    edges = [(e[0],e[1]) for e in G.edges(data=True) if e[2]['weight'] > np.random.random()]\n",
    "    G2 = G.edge_subgraph(edges).copy()\n",
    "    max_subgraph = max(nx.weakly_connected_component_subgraphs(G2), key=len)\n",
    "    for n in max_subgraph:\n",
    "        participation[n] += 1"
   ]
  },
  {
   "cell_type": "code",
   "execution_count": 123,
   "metadata": {},
   "outputs": [
    {
     "data": {
      "text/plain": [
       "0.01    197\n",
       "0.02    129\n",
       "0.03     87\n",
       "0.04     56\n",
       "0.05     53\n",
       "0.06     43\n",
       "0.07     29\n",
       "0.08     19\n",
       "0.09     17\n",
       "0.11     12\n",
       "0.12      9\n",
       "0.10      8\n",
       "0.13      7\n",
       "0.15      3\n",
       "0.16      2\n",
       "0.21      1\n",
       "0.14      1\n",
       "0.39      1\n",
       "0.18      1\n",
       "0.60      1\n",
       "0.24      1\n",
       "0.35      1\n",
       "dtype: int64"
      ]
     },
     "execution_count": 123,
     "metadata": {},
     "output_type": "execute_result"
    }
   ],
   "source": [
    "pd.Series([participation[n]/100 for n in participation]).value_counts()"
   ]
  },
  {
   "cell_type": "markdown",
   "metadata": {},
   "source": [
    "Most of nodes participate in the largest component in less than 1% of cases. However, there is one node that belongs to largest component in 60% of cases."
   ]
  },
  {
   "cell_type": "code",
   "execution_count": 126,
   "metadata": {},
   "outputs": [
    {
     "data": {
      "text/plain": [
       "([2], [1])"
      ]
     },
     "execution_count": 126,
     "metadata": {},
     "output_type": "execute_result"
    }
   ],
   "source": [
    "[n for n in participation if participation[n]/100 > 0.5], best_seed"
   ]
  },
  {
   "cell_type": "markdown",
   "metadata": {},
   "source": [
    "Surprisingly, that is not the best seed found by TIM."
   ]
  },
  {
   "cell_type": "code",
   "execution_count": 129,
   "metadata": {},
   "outputs": [
    {
     "data": {
      "text/plain": [
       "0.35"
      ]
     },
     "execution_count": 129,
     "metadata": {},
     "output_type": "execute_result"
    }
   ],
   "source": [
    "participation[best_seed[0]]/100"
   ]
  },
  {
   "cell_type": "markdown",
   "metadata": {},
   "source": [
    "The best seed is second largest, with the score 35%. But even 35% is too small, meaning that in majority of cases the seed does not belong to the largest weakly connected component.\n",
    "\n",
    "Let us check if the second node might be a better seed.\n",
    "\n"
   ]
  },
  {
   "cell_type": "code",
   "execution_count": 132,
   "metadata": {},
   "outputs": [
    {
     "data": {
      "text/plain": [
       "{'iterations': 1000, 'mc_objective': 5.306, 'mc_objective_std': 2.45772}"
      ]
     },
     "execution_count": 132,
     "metadata": {},
     "output_type": "execute_result"
    }
   ],
   "source": [
    "sim = Simulator(GG, [2], 'C', blockable_seeds=True, number_of_seeds=-1)\n",
    "sim.run(1000)"
   ]
  },
  {
   "cell_type": "markdown",
   "metadata": {},
   "source": [
    "Surprisingly, despite the fact the the node participates in twice larger number of weakly connected components, the expected spread is almost twice smaller (5 to 9). One reason may be that due to the nature of influence spread, the size of spanning trees is what matters. \n",
    "\n",
    "Let us calculate the size of maximum spanning tree across iterations."
   ]
  },
  {
   "cell_type": "code",
   "execution_count": 146,
   "metadata": {},
   "outputs": [
    {
     "data": {
      "application/vnd.jupyter.widget-view+json": {
       "model_id": "9b03a3c8cdde4c06942f7ac1a2d9ea87",
       "version_major": 2,
       "version_minor": 0
      },
      "text/plain": [
       "HBox(children=(IntProgress(value=0), HTML(value='')))"
      ]
     },
     "metadata": {},
     "output_type": "display_data"
    }
   ],
   "source": [
    "# size of branching in the weakly connected component\n",
    "s = []\n",
    "for i in tqdm_notebook(range(100)):\n",
    "    edges = [(e[0],e[1]) for e in G.edges(data=True) if e[2]['weight'] > np.random.random()]\n",
    "    G2 = G.edge_subgraph(edges).copy()\n",
    "    a = max([len(nx.descendants(G2, n)) for n in G2.nodes()])\n",
    "    s.append(a)"
   ]
  },
  {
   "cell_type": "code",
   "execution_count": 147,
   "metadata": {},
   "outputs": [
    {
     "data": {
      "text/plain": [
       "<matplotlib.axes._subplots.AxesSubplot at 0x117f6cac8>"
      ]
     },
     "execution_count": 147,
     "metadata": {},
     "output_type": "execute_result"
    },
    {
     "data": {
      "image/png": "[encoded data removed]",
      "text/plain": [
       "<Figure size 432x288 with 1 Axes>"
      ]
     },
     "metadata": {},
     "output_type": "display_data"
    }
   ],
   "source": [
    "pd.Series(s).hist()"
   ]
  },
  {
   "cell_type": "markdown",
   "metadata": {},
   "source": [
    "This is the size of the largest tree in a graph.  The distribution is due MC simulations. This is a bit better than for weakly and strongly conected components, but the average size is still larger than the best expected spread (9).\n",
    "\n",
    "Now, let us check the size of the largest component of *undirected* network. Let us compare the size of the largest component."
   ]
  },
  {
   "cell_type": "code",
   "execution_count": 149,
   "metadata": {},
   "outputs": [],
   "source": [
    "graph_params = {\n",
    "    \"graph_type\": \"powerlaw_cluster\",\n",
    "    \"weight_scale\": 0.1,\n",
    "    \"both_directions\": 1,\n",
    "    \"random_weight\": 0,\n",
    "    \"n\": 1000,\n",
    "    \"p\": 0.4,\n",
    "    \"m\": 2\n",
    "}\n",
    "G_both_directions = Generator(graph_params).get()"
   ]
  },
  {
   "cell_type": "code",
   "execution_count": 156,
   "metadata": {},
   "outputs": [
    {
     "data": {
      "text/plain": [
       "({'iterations': 10000, 'mc_objective': 17.7199, 'mc_objective_std': 11.0411},\n",
       " 'RR objective 18.041799380426717')"
      ]
     },
     "execution_count": 156,
     "metadata": {},
     "output_type": "execute_result"
    }
   ],
   "source": [
    "# get the IC spread\n",
    "r = RobustWrapper.run_imm(G_both_directions, epsilon=0.15, number_of_seeds=1, reward_type=0, verbose=False)\n",
    "best_seed = r['imm']['seeds']\n",
    "sim = Simulator(G_both_directions, best_seed, 'C', blockable_seeds=True, number_of_seeds=-1)\n",
    "sim.run(10000), \"RR objective {}\".format(r['imm']['objective'])"
   ]
  },
  {
   "cell_type": "code",
   "execution_count": 163,
   "metadata": {},
   "outputs": [
    {
     "data": {
      "application/vnd.jupyter.widget-view+json": {
       "model_id": "96f0bdfa725949e3939768c6ca708e56",
       "version_major": 2,
       "version_minor": 0
      },
      "text/plain": [
       "HBox(children=(IntProgress(value=0), HTML(value='')))"
      ]
     },
     "metadata": {},
     "output_type": "display_data"
    },
    {
     "data": {
      "text/plain": [
       "<matplotlib.axes._subplots.AxesSubplot at 0x11886d630>"
      ]
     },
     "execution_count": 163,
     "metadata": {},
     "output_type": "execute_result"
    },
    {
     "data": {
      "image/png": "[encoded data removed]",
      "text/plain": [
       "<Figure size 432x288 with 1 Axes>"
      ]
     },
     "metadata": {},
     "output_type": "display_data"
    }
   ],
   "source": [
    "# get the largest component\n",
    "G3 = G_both_directions.to_undirected()\n",
    "p = 0.1\n",
    "s = []\n",
    "for i in tqdm_notebook(range(100)):\n",
    "    edges = [(e[0],e[1]) for e in G3.edges(data=True) if p > np.random.random()]\n",
    "    G4 = G3.edge_subgraph(edges).copy()\n",
    "    s.append(len(max(nx.connected_component_subgraphs(G4), key=len)))\n",
    "pd.Series(s).hist()"
   ]
  },
  {
   "cell_type": "code",
   "execution_count": 166,
   "metadata": {},
   "outputs": [
    {
     "data": {
      "text/plain": [
       "count    100.000000\n",
       "mean      23.870000\n",
       "std        9.910361\n",
       "min       10.000000\n",
       "25%       17.000000\n",
       "50%       22.000000\n",
       "75%       27.000000\n",
       "max       62.000000\n",
       "dtype: float64"
      ]
     },
     "execution_count": 166,
     "metadata": {},
     "output_type": "execute_result"
    }
   ],
   "source": [
    "pd.Series(s).describe()"
   ]
  },
  {
   "cell_type": "markdown",
   "metadata": {},
   "source": [
    "We see that expected spread (18) is a bit smaller than the mean of the largest component (23)"
   ]
  },
  {
   "cell_type": "markdown",
   "metadata": {},
   "source": [
    "### Correlation for the robust IM\n",
    "Here we check the correlation of ROB with expected spread in unblocked and blocked networks, for different uniform influence probabilities p."
   ]
  },
  {
   "cell_type": "code",
   "execution_count": 205,
   "metadata": {},
   "outputs": [],
   "source": [
    "# consider undirected graph as simplier case\n",
    "graph_params = {\n",
    "    \"graph_type\": \"powerlaw_cluster\",\n",
    "    \"weight_scale\": 0.1,\n",
    "    \"both_directions\": 1,\n",
    "    \"random_weight\": 0,\n",
    "    \"n\": 1000,\n",
    "    \"p\": 0.4,\n",
    "    \"m\": 2\n",
    "}\n",
    "G_both_directions = Generator(graph_params).get()\n",
    "G_undirected = G_both_directions.to_undirected()"
   ]
  },
  {
   "cell_type": "code",
   "execution_count": 208,
   "metadata": {},
   "outputs": [
    {
     "data": {
      "application/vnd.jupyter.widget-view+json": {
       "model_id": "8fae717a1d9745b09131a7f147e547b2",
       "version_major": 2,
       "version_minor": 0
      },
      "text/plain": [
       "HBox(children=(IntProgress(value=0, max=10), HTML(value='')))"
      ]
     },
     "metadata": {},
     "output_type": "display_data"
    }
   ],
   "source": [
    "# first consider the size of the largest component, and sum it over all blocked nodes\n",
    "s = get_mcsim_robust(G_undirected)"
   ]
  },
  {
   "cell_type": "code",
   "execution_count": 209,
   "metadata": {},
   "outputs": [
    {
     "data": {
      "text/plain": [
       "Text(0, 0.5, 'robustness E[S(Q)]')"
      ]
     },
     "execution_count": 209,
     "metadata": {},
     "output_type": "execute_result"
    },
    {
     "data": {
      "image/png": "[encoded data removed]",
      "text/plain": [
       "<Figure size 432x288 with 1 Axes>"
      ]
     },
     "metadata": {},
     "output_type": "display_data"
    }
   ],
   "source": [
    "stats = [sum(s[ss]) for ss in s]\n",
    "plt.plot(np.array(stats)/10)\n",
    "plt.xlabel(\"Number of nodes removed from the network\")\n",
    "plt.ylabel(\"robustness E[S(Q)]\")"
   ]
  },
  {
   "cell_type": "code",
   "execution_count": 210,
   "metadata": {},
   "outputs": [],
   "source": [
    "sb = np.sum(np.array([sum(s[ss]) for ss in s])/10)"
   ]
  },
  {
   "cell_type": "code",
   "execution_count": 211,
   "metadata": {},
   "outputs": [
    {
     "data": {
      "text/plain": [
       "561.3"
      ]
     },
     "execution_count": 211,
     "metadata": {},
     "output_type": "execute_result"
    }
   ],
   "source": [
    "sb"
   ]
  },
  {
   "cell_type": "code",
   "execution_count": 177,
   "metadata": {},
   "outputs": [
    {
     "data": {
      "text/plain": [
       "({'iterations': 10000, 'mc_objective': 24.2704, 'mc_objective_std': 11.6356},\n",
       " 'RR objective 24.084820454644618')"
      ]
     },
     "execution_count": 177,
     "metadata": {},
     "output_type": "execute_result"
    }
   ],
   "source": [
    "# next consider the IC model\n",
    "r = RobustWrapper.run_imm(G_both_directions, epsilon=0.15, number_of_seeds=1, reward_type=0, verbose=False)\n",
    "best_seed = r['imm']['seeds']\n",
    "sim = Simulator(G_both_directions, best_seed, 'C', blockable_seeds=True, number_of_seeds=-1)\n",
    "sim.run(10000), \"RR objective {}\".format(r['imm']['objective'])"
   ]
  },
  {
   "cell_type": "code",
   "execution_count": 222,
   "metadata": {},
   "outputs": [
    {
     "data": {
      "text/plain": [
       "[1]"
      ]
     },
     "execution_count": 222,
     "metadata": {},
     "output_type": "execute_result"
    }
   ],
   "source": [
    "best_seed"
   ]
  },
  {
   "cell_type": "code",
   "execution_count": null,
   "metadata": {},
   "outputs": [],
   "source": [
    "# and let us also add robustness objective, the expected size with adversaries\n",
    "advs = {}\n",
    "\n",
    "K = 5\n",
    "\n",
    "ns_s = NetShieldSolver(G_both_directions,k=K)\n",
    "ns_s.run()\n",
    "advs[\"NetShield\"] = ns_s.log[\"Blocked nodes\"]\n",
    "\n",
    "deg_s = DegreeSolver(G,k=K)\n",
    "deg_s.run()\n",
    "advs[\"Degree\"] = deg_s.log[\"Blocked nodes\"]\n",
    "\n",
    "\n",
    "rn_s = RandomSolver(G,k=K)\n",
    "rn_s.run()\n",
    "advs[\"Random\"] = rn_s.log[\"Blocked nodes\"]\n",
    "\n",
    "\n",
    "single_greedy_result = RobustWrapper.run_singlegreedy(G_both_directions, epsilon=0.15,\n",
    "                                                       number_of_seeds=1,\n",
    "                                                       blocked_dic_of_nodes=advs, beta=1, gamma=0.001, verbose=True)"
   ]
  },
  {
   "cell_type": "code",
   "execution_count": 221,
   "metadata": {},
   "outputs": [
    {
     "data": {
      "text/plain": [
       "{'adversaries_size': 3,\n",
       " 'all_greedy': {'mc_obj': 0.006647,\n",
       "  'mc_obj_std': 0.0037942576349004114,\n",
       "  'mc_simulation_time': 0.013658,\n",
       "  'objective': 0.006907497257500259,\n",
       "  'seeds': [17],\n",
       "  'time': 18.627291,\n",
       "  'worst_adv_name': 'Degree'},\n",
       " 'beta': 1.0,\n",
       " 'gamma': 0.001,\n",
       " 'graph_id': '317206540848318269362272630060737833887',\n",
       " 'imm': {'seeds': None},\n",
       " 'rr_collection_time': 9.310198999999999,\n",
       " 'rr_opt_time': 9.313942,\n",
       " 'satgreedy': {'mc_obj': 0.006883,\n",
       "  'mc_obj_std': 0.003915777189779828,\n",
       "  'mc_simulation_time': 0.013526,\n",
       "  'objective': 0.006907497257500259,\n",
       "  'seeds': [17],\n",
       "  'time': 10.150711,\n",
       "  'worst_adv_name': 'Degree'},\n",
       " 'single_greedy': {'mc_obj': 0.006692999999999999,\n",
       "  'mc_obj_std': 0.003754297670670236,\n",
       "  'mc_simulation_time': 0.01222,\n",
       "  'objective': 0.006907497257500259,\n",
       "  'seeds': [17],\n",
       "  'time': 9.371343999999999,\n",
       "  'worst_adv_name': 'Degree'},\n",
       " 'single_greedy_celf': {'mc_obj': 0.006745,\n",
       "  'mc_obj_std': 0.003752862241010185,\n",
       "  'mc_simulation_time': 0.013541,\n",
       "  'objective': 0.006907497257500259,\n",
       "  'seeds': [17],\n",
       "  'time': 9.393108999999999,\n",
       "  'worst_adv_name': 'NetShield'}}"
      ]
     },
     "execution_count": 221,
     "metadata": {},
     "output_type": "execute_result"
    }
   ],
   "source": [
    "single_greedy_result"
   ]
  },
  {
   "cell_type": "code",
   "execution_count": 236,
   "metadata": {},
   "outputs": [
    {
     "data": {
      "application/vnd.jupyter.widget-view+json": {
       "model_id": "2953eb1640e94197a45dc95947b61933",
       "version_major": 2,
       "version_minor": 0
      },
      "text/plain": [
       "HBox(children=(IntProgress(value=0, max=10), HTML(value='')))"
      ]
     },
     "metadata": {},
     "output_type": "display_data"
    },
    {
     "data": {
      "application/vnd.jupyter.widget-view+json": {
       "model_id": "0b3cbc24a825404fa5396d4a7c8d0849",
       "version_major": 2,
       "version_minor": 0
      },
      "text/plain": [
       "HBox(children=(IntProgress(value=0, max=10), HTML(value='')))"
      ]
     },
     "metadata": {},
     "output_type": "display_data"
    },
    {
     "name": "stdout",
     "output_type": "stream",
     "text": [
      "imm done\n",
      "adv done\n"
     ]
    },
    {
     "data": {
      "application/vnd.jupyter.widget-view+json": {
       "model_id": "56d760a333f242fb9895b759c1a2c695",
       "version_major": 2,
       "version_minor": 0
      },
      "text/plain": [
       "HBox(children=(IntProgress(value=0, max=10), HTML(value='')))"
      ]
     },
     "metadata": {},
     "output_type": "display_data"
    },
    {
     "name": "stdout",
     "output_type": "stream",
     "text": [
      "imm done\n",
      "adv done\n"
     ]
    },
    {
     "data": {
      "application/vnd.jupyter.widget-view+json": {
       "model_id": "a6cb1b02826b4f1d96b3145a805e9875",
       "version_major": 2,
       "version_minor": 0
      },
      "text/plain": [
       "HBox(children=(IntProgress(value=0, max=10), HTML(value='')))"
      ]
     },
     "metadata": {},
     "output_type": "display_data"
    },
    {
     "name": "stdout",
     "output_type": "stream",
     "text": [
      "imm done\n",
      "adv done\n"
     ]
    },
    {
     "data": {
      "application/vnd.jupyter.widget-view+json": {
       "model_id": "5cb3d2a68d994d798ecc1fba0efdedda",
       "version_major": 2,
       "version_minor": 0
      },
      "text/plain": [
       "HBox(children=(IntProgress(value=0, max=10), HTML(value='')))"
      ]
     },
     "metadata": {},
     "output_type": "display_data"
    },
    {
     "name": "stdout",
     "output_type": "stream",
     "text": [
      "imm done\n",
      "adv done\n"
     ]
    },
    {
     "data": {
      "application/vnd.jupyter.widget-view+json": {
       "model_id": "187a84a287c04996aaf9c692dcc965f5",
       "version_major": 2,
       "version_minor": 0
      },
      "text/plain": [
       "HBox(children=(IntProgress(value=0, max=10), HTML(value='')))"
      ]
     },
     "metadata": {},
     "output_type": "display_data"
    },
    {
     "name": "stdout",
     "output_type": "stream",
     "text": [
      "imm done\n",
      "adv done\n"
     ]
    },
    {
     "data": {
      "application/vnd.jupyter.widget-view+json": {
       "model_id": "306fa75264254f378f87b10c0413c98d",
       "version_major": 2,
       "version_minor": 0
      },
      "text/plain": [
       "HBox(children=(IntProgress(value=0, max=10), HTML(value='')))"
      ]
     },
     "metadata": {},
     "output_type": "display_data"
    },
    {
     "name": "stdout",
     "output_type": "stream",
     "text": [
      "imm done\n",
      "adv done\n"
     ]
    },
    {
     "data": {
      "application/vnd.jupyter.widget-view+json": {
       "model_id": "dc634f5bd26e4966a4fdc0ae4b783962",
       "version_major": 2,
       "version_minor": 0
      },
      "text/plain": [
       "HBox(children=(IntProgress(value=0, max=10), HTML(value='')))"
      ]
     },
     "metadata": {},
     "output_type": "display_data"
    },
    {
     "name": "stdout",
     "output_type": "stream",
     "text": [
      "imm done\n",
      "adv done\n"
     ]
    },
    {
     "data": {
      "application/vnd.jupyter.widget-view+json": {
       "model_id": "1c13938ee085424daf13c87bb8dfa237",
       "version_major": 2,
       "version_minor": 0
      },
      "text/plain": [
       "HBox(children=(IntProgress(value=0, max=10), HTML(value='')))"
      ]
     },
     "metadata": {},
     "output_type": "display_data"
    },
    {
     "name": "stdout",
     "output_type": "stream",
     "text": [
      "imm done\n",
      "adv done\n"
     ]
    },
    {
     "data": {
      "application/vnd.jupyter.widget-view+json": {
       "model_id": "f8666d5f041e4ba8b246004755099584",
       "version_major": 2,
       "version_minor": 0
      },
      "text/plain": [
       "HBox(children=(IntProgress(value=0, max=10), HTML(value='')))"
      ]
     },
     "metadata": {},
     "output_type": "display_data"
    },
    {
     "name": "stdout",
     "output_type": "stream",
     "text": [
      "imm done\n",
      "adv done\n"
     ]
    },
    {
     "data": {
      "application/vnd.jupyter.widget-view+json": {
       "model_id": "be023b09036b47128859d9daec927e7d",
       "version_major": 2,
       "version_minor": 0
      },
      "text/plain": [
       "HBox(children=(IntProgress(value=0, max=10), HTML(value='')))"
      ]
     },
     "metadata": {},
     "output_type": "display_data"
    },
    {
     "name": "stdout",
     "output_type": "stream",
     "text": [
      "imm done\n",
      "adv done\n"
     ]
    }
   ],
   "source": [
    "results = []\n",
    "for p in tqdm_notebook(np.arange(0.01,0.3,0.03)):\n",
    "    nx.set_edge_attributes(G_both_directions,p,\"weight\")\n",
    "    nx.set_edge_attributes(G_undirected,p,\"weight\")\n",
    "    \n",
    "    s = get_mcsim_robust(G_undirected)\n",
    "    sb = np.sum(np.array([sum(s[ss]) for ss in s])/10)\n",
    "    \n",
    "    r = RobustWrapper.run_imm(G_both_directions, epsilon=0.3, number_of_seeds=1, reward_type=0, verbose=False)\n",
    "    best_seed = r['imm']['seeds']\n",
    "    sim = Simulator(G_both_directions, best_seed, 'C', blockable_seeds=True, number_of_seeds=-1)\n",
    "    lc = sim.run(1000)['mc_objective']\n",
    "    \n",
    "    print(\"imm done\")\n",
    "    \n",
    "    # single greedy\n",
    "    advs = {}\n",
    "    K = 10\n",
    "\n",
    "    ns_s = NetShieldSolver(G_both_directions,k=K)\n",
    "    ns_s.run()\n",
    "    advs[\"NetShield\"] = ns_s.log[\"Blocked nodes\"]\n",
    "\n",
    "    deg_s = DegreeSolver(G,k=K)\n",
    "    deg_s.run()\n",
    "    advs[\"Degree\"] = deg_s.log[\"Blocked nodes\"]\n",
    "\n",
    "    rn_s = RandomSolver(G,k=K)\n",
    "    rn_s.run()\n",
    "    advs[\"Random\"] = rn_s.log[\"Blocked nodes\"]\n",
    "    \n",
    "    print(\"adv done\")\n",
    "\n",
    "    single_greedy_result = RobustWrapper.run_singlegreedy(G_both_directions, epsilon=0.2,\n",
    "                                                           number_of_seeds=1,\n",
    "                                                           blocked_dic_of_nodes=advs, beta=1, gamma=0.01, verbose=False)\n",
    "    \n",
    "    results.append((p, sb, lc, single_greedy_result['satgreedy']['objective']))"
   ]
  },
  {
   "cell_type": "code",
   "execution_count": 239,
   "metadata": {},
   "outputs": [],
   "source": [
    "results = np.array(results)\n",
    "df = pd.DataFrame({'p': results[:,0], \"ROB\": results[:,1], \"TIM\": results[:,2], \"SatGreedy\": results[:,3]})"
   ]
  },
  {
   "cell_type": "code",
   "execution_count": 240,
   "metadata": {},
   "outputs": [
    {
     "name": "stderr",
     "output_type": "stream",
     "text": [
      "/usr/local/lib/python3.7/site-packages/ipykernel_launcher.py:1: FutureWarning: pandas.scatter_matrix is deprecated, use pandas.plotting.scatter_matrix instead\n",
      "  \"\"\"Entry point for launching an IPython kernel.\n"
     ]
    },
    {
     "data": {
      "image/png": "[encoded data removed]",
      "text/plain": [
       "<Figure size 432x432 with 16 Axes>"
      ]
     },
     "metadata": {},
     "output_type": "display_data"
    }
   ],
   "source": [
    "pd.scatter_matrix(df, figsize=(6, 6))\n",
    "plt.show()"
   ]
  },
  {
   "cell_type": "markdown",
   "metadata": {},
   "source": [
    "The picture above shows a correlation matrix between ROB, TIM, SatGreedy and influence probabilities p. Diagonal shows the histogram of values."
   ]
  },
  {
   "cell_type": "code",
   "execution_count": 241,
   "metadata": {},
   "outputs": [
    {
     "data": {
      "text/html": [
       "<div>\n",
       "<style scoped>\n",
       "    .dataframe tbody tr th:only-of-type {\n",
       "        vertical-align: middle;\n",
       "    }\n",
       "\n",
       "    .dataframe tbody tr th {\n",
       "        vertical-align: top;\n",
       "    }\n",
       "\n",
       "    .dataframe thead th {\n",
       "        text-align: right;\n",
       "    }\n",
       "</style>\n",
       "<table border=\"1\" class=\"dataframe\">\n",
       "  <thead>\n",
       "    <tr style=\"text-align: right;\">\n",
       "      <th></th>\n",
       "      <th>p</th>\n",
       "      <th>ROB</th>\n",
       "      <th>TIM</th>\n",
       "      <th>SatGreedy</th>\n",
       "    </tr>\n",
       "  </thead>\n",
       "  <tbody>\n",
       "    <tr>\n",
       "      <th>p</th>\n",
       "      <td>1.000000</td>\n",
       "      <td>0.963571</td>\n",
       "      <td>0.927082</td>\n",
       "      <td>0.893007</td>\n",
       "    </tr>\n",
       "    <tr>\n",
       "      <th>ROB</th>\n",
       "      <td>0.963571</td>\n",
       "      <td>1.000000</td>\n",
       "      <td>0.988127</td>\n",
       "      <td>0.977910</td>\n",
       "    </tr>\n",
       "    <tr>\n",
       "      <th>TIM</th>\n",
       "      <td>0.927082</td>\n",
       "      <td>0.988127</td>\n",
       "      <td>1.000000</td>\n",
       "      <td>0.975911</td>\n",
       "    </tr>\n",
       "    <tr>\n",
       "      <th>SatGreedy</th>\n",
       "      <td>0.893007</td>\n",
       "      <td>0.977910</td>\n",
       "      <td>0.975911</td>\n",
       "      <td>1.000000</td>\n",
       "    </tr>\n",
       "  </tbody>\n",
       "</table>\n",
       "</div>"
      ],
      "text/plain": [
       "                  p       ROB       TIM  SatGreedy\n",
       "p          1.000000  0.963571  0.927082   0.893007\n",
       "ROB        0.963571  1.000000  0.988127   0.977910\n",
       "TIM        0.927082  0.988127  1.000000   0.975911\n",
       "SatGreedy  0.893007  0.977910  0.975911   1.000000"
      ]
     },
     "execution_count": 241,
     "metadata": {},
     "output_type": "execute_result"
    }
   ],
   "source": [
    "df.corr()"
   ]
  },
  {
   "cell_type": "markdown",
   "metadata": {},
   "source": [
    "We see that although on the picture it seems like SatGreedy is better aligned with ROB, the correlation matrix says that the highest correlation is between ROB and TIM. That means our robustness measure better predicts spread for unblocked graph, rather that with few blocked nodes."
   ]
  },
  {
   "cell_type": "markdown",
   "metadata": {},
   "source": [
    "# New experiments on R"
   ]
  },
  {
   "cell_type": "code",
   "execution_count": 55,
   "metadata": {},
   "outputs": [
    {
     "data": {
      "application/vnd.jupyter.widget-view+json": {
       "model_id": "7dddeab370a74a23a4465df29a5750e7",
       "version_major": 2,
       "version_minor": 0
      },
      "text/plain": [
       "HBox(children=(IntProgress(value=0, max=3), HTML(value='')))"
      ]
     },
     "metadata": {},
     "output_type": "display_data"
    },
    {
     "name": "stdout",
     "output_type": "stream",
     "text": [
      "\n"
     ]
    },
    {
     "data": {
      "text/plain": [
       "Text(0, 0.5, 'E[s(Q)]')"
      ]
     },
     "execution_count": 55,
     "metadata": {},
     "output_type": "execute_result"
    },
    {
     "data": {
      "image/png": "[encoded data removed]",
      "text/plain": [
       "<Figure size 432x288 with 1 Axes>"
      ]
     },
     "metadata": {},
     "output_type": "display_data"
    }
   ],
   "source": [
    "for m in tqdm_notebook(range(2,10,3)):\n",
    "    graph_params = {\n",
    "        \"graph_type\": \"powerlaw_cluster\",\n",
    "        \"weight_scale\": 0.5,\n",
    "        \"both_directions\": 0,\n",
    "        \"random_weight\": 0,\n",
    "        \"n\": 1000,\n",
    "        \"p\": 0.4,\n",
    "        \"m\": m\n",
    "    }\n",
    "    G = Generator(graph_params).get()\n",
    "\n",
    "    ns_s = NetShieldSolver(G,k=len(G)) # TODO NetShield is for directed or not\n",
    "    ns_s.run()\n",
    "    all_Q = ns_s.log[\"Blocked nodes\"]\n",
    "\n",
    "    r = RobustWrapper.run_rob(G, all_Q, 5)\n",
    "\n",
    "    plt.plot(r['sequence'], label=\"m={},|E|={}\".format(m,G.number_of_edges()))\n",
    "plt.legend()\n",
    "plt.xlabel(\"Q\")\n",
    "plt.ylabel(\"E[s(Q)]\")"
   ]
  },
  {
   "cell_type": "code",
   "execution_count": 63,
   "metadata": {},
   "outputs": [
    {
     "data": {
      "application/vnd.jupyter.widget-view+json": {
       "model_id": "8caca6ea237c4c7ea899555753c99eea",
       "version_major": 2,
       "version_minor": 0
      },
      "text/plain": [
       "HBox(children=(IntProgress(value=0, max=3), HTML(value='')))"
      ]
     },
     "metadata": {},
     "output_type": "display_data"
    },
    {
     "name": "stdout",
     "output_type": "stream",
     "text": [
      "\n"
     ]
    },
    {
     "data": {
      "text/plain": [
       "Text(0, 0.5, 'E[s(Q)]')"
      ]
     },
     "execution_count": 63,
     "metadata": {},
     "output_type": "execute_result"
    },
    {
     "data": {
      "image/png": "[encoded data removed]",
      "text/plain": [
       "<Figure size 432x288 with 1 Axes>"
      ]
     },
     "metadata": {},
     "output_type": "display_data"
    }
   ],
   "source": [
    "for p in tqdm_notebook(np.arange(0.1,0.6,0.2)):\n",
    "    graph_params = {\n",
    "        \"graph_type\": \"powerlaw_cluster\",\n",
    "        \"weight_scale\": p,\n",
    "        \"both_directions\": 0,\n",
    "        \"random_weight\": 0,\n",
    "        \"n\": 1000,\n",
    "        \"p\": 0.4,\n",
    "        \"m\": 4\n",
    "    }\n",
    "    G = Generator(graph_params).get()\n",
    "\n",
    "    ns_s = NetShieldSolver(G,k=len(G)) # TODO NetShield is for directed or not\n",
    "    ns_s.run()\n",
    "    all_Q = ns_s.log[\"Blocked nodes\"]\n",
    "\n",
    "    r = RobustWrapper.run_rob(G, all_Q, 5)\n",
    "\n",
    "    plt.plot(r['sequence'], label=\"w={:0.2f},|E|={}\".format(p,G.number_of_edges()))\n",
    "plt.legend()\n",
    "plt.xlabel(\"Q\")\n",
    "plt.ylabel(\"E[s(Q)]\")"
   ]
  },
  {
   "cell_type": "code",
   "execution_count": 64,
   "metadata": {},
   "outputs": [
    {
     "data": {
      "application/vnd.jupyter.widget-view+json": {
       "model_id": "4b1d1b369ae94f948b306f78cebc0719",
       "version_major": 2,
       "version_minor": 0
      },
      "text/plain": [
       "HBox(children=(IntProgress(value=0, max=5), HTML(value='')))"
      ]
     },
     "metadata": {},
     "output_type": "display_data"
    },
    {
     "name": "stdout",
     "output_type": "stream",
     "text": [
      "\n"
     ]
    },
    {
     "data": {
      "text/plain": [
       "Text(0, 0.5, 'E[s(Q)]')"
      ]
     },
     "execution_count": 64,
     "metadata": {},
     "output_type": "execute_result"
    },
    {
     "data": {
      "image/png": "[encoded data removed]",
      "text/plain": [
       "<Figure size 432x288 with 1 Axes>"
      ]
     },
     "metadata": {},
     "output_type": "display_data"
    }
   ],
   "source": [
    "for p in tqdm_notebook(np.arange(0.01,0.99,0.2)):\n",
    "    graph_params = {\n",
    "        \"graph_type\": \"powerlaw_cluster\",\n",
    "        \"weight_scale\": 0.5,\n",
    "        \"both_directions\": 0,\n",
    "        \"random_weight\": 0,\n",
    "        \"n\": 1000,\n",
    "        \"p\": p,\n",
    "        \"m\": 4\n",
    "    }\n",
    "    G = Generator(graph_params).get()\n",
    "\n",
    "    ns_s = NetShieldSolver(G,k=len(G)) # TODO NetShield is for directed or not\n",
    "    ns_s.run()\n",
    "    all_Q = ns_s.log[\"Blocked nodes\"]\n",
    "\n",
    "    r = RobustWrapper.run_rob(G, all_Q, 5)\n",
    "\n",
    "    plt.plot(r['sequence'], label=\"p={:0.2f},|E|={}\".format(p,G.number_of_edges()))\n",
    "plt.legend()\n",
    "plt.xlabel(\"Q\")\n",
    "plt.ylabel(\"E[s(Q)]\")"
   ]
  },
  {
   "cell_type": "code",
   "execution_count": null,
   "metadata": {},
   "outputs": [],
   "source": [
    "# scalability experiment\n",
    "results = pd.DataFrame()\n",
    "for mode in tqdm_notebook([2,3,4,5],desc=\"mode\"):\n",
    "    for n in tqdm_notebook(range(100,1000,200)):\n",
    "        graph_params = {\n",
    "          \"graph_type\": \"gaussian_random_partition\",\n",
    "          \"weight_scale\": 0.999,\n",
    "          \"random_weight\": 0,\n",
    "          \"n\": n,\n",
    "          \"s\": 15,\n",
    "          \"v\": 0.3,\n",
    "          \"p_in\": 0.01,\n",
    "          \"p_out\": 0.001\n",
    "        }\n",
    "        G = Generator(graph_params).get()\n",
    "\n",
    "        ns_s = NetShieldSolver(G,k=len(G)) # TODO NetShield is for directed or not\n",
    "        ns_s.run()\n",
    "        all_Q = ns_s.log[\"Blocked nodes\"]\n",
    "\n",
    "        r = RobustWrapper.run_rob(G, all_Q, 10, mode=mode, verbose=True)\n",
    "        r['n'] = n\n",
    "        r['mode'] = mode\n",
    "        results = results.append(r, ignore_index=True)"
   ]
  },
  {
   "cell_type": "code",
   "execution_count": 13,
   "metadata": {},
   "outputs": [
    {
     "data": {
      "text/plain": [
       "<matplotlib.legend.Legend at 0x111a34470>"
      ]
     },
     "execution_count": 13,
     "metadata": {},
     "output_type": "execute_result"
    },
    {
     "data": {
      "image/png": "[encoded data removed]",
      "text/plain": [
       "<Figure size 432x288 with 1 Axes>"
      ]
     },
     "metadata": {},
     "output_type": "display_data"
    }
   ],
   "source": [
    "lmap = {1:\"DFS\", 2:\"SCC\", 3:\"Reverse SCC\", 4:\"DynSCC\", 5:\"Dagger\"}\n",
    "for mode in [2,3,4,5]:\n",
    "    plt.semilogy(results[results['mode'] == mode][\"n\"], \n",
    "             results[results['mode'] == mode][\"runtime\"]/(10**9),label=lmap[mode])\n",
    "plt.legend()"
   ]
  },
  {
   "cell_type": "code",
   "execution_count": 10,
   "metadata": {},
   "outputs": [
    {
     "data": {
      "text/html": [
       "<div>\n",
       "<style scoped>\n",
       "    .dataframe tbody tr th:only-of-type {\n",
       "        vertical-align: middle;\n",
       "    }\n",
       "\n",
       "    .dataframe tbody tr th {\n",
       "        vertical-align: top;\n",
       "    }\n",
       "\n",
       "    .dataframe thead th {\n",
       "        text-align: right;\n",
       "    }\n",
       "</style>\n",
       "<table border=\"1\" class=\"dataframe\">\n",
       "  <thead>\n",
       "    <tr style=\"text-align: right;\">\n",
       "      <th></th>\n",
       "      <th>adversary file</th>\n",
       "      <th>dag traversal</th>\n",
       "      <th>mode</th>\n",
       "      <th>n</th>\n",
       "      <th>rob</th>\n",
       "      <th>runtime</th>\n",
       "      <th>sequence</th>\n",
       "    </tr>\n",
       "  </thead>\n",
       "  <tbody>\n",
       "    <tr>\n",
       "      <th>0</th>\n",
       "      <td>/Users/au624601/PhD/data/irim/tmpForWrapper/ad...</td>\n",
       "      <td>0.0</td>\n",
       "      <td>2.0</td>\n",
       "      <td>100.0</td>\n",
       "      <td>4.200000</td>\n",
       "      <td>1.400000e+08</td>\n",
       "      <td>[130, 80, 80, 80, 80, 80, 80, 80, 80, 80, 80, ...</td>\n",
       "    </tr>\n",
       "    <tr>\n",
       "      <th>1</th>\n",
       "      <td>/Users/au624601/PhD/data/irim/tmpForWrapper/ad...</td>\n",
       "      <td>0.0</td>\n",
       "      <td>2.0</td>\n",
       "      <td>200.0</td>\n",
       "      <td>5.492500</td>\n",
       "      <td>5.800000e+08</td>\n",
       "      <td>[250, 240, 240, 240, 235, 240, 210, 210, 210, ...</td>\n",
       "    </tr>\n",
       "    <tr>\n",
       "      <th>2</th>\n",
       "      <td>/Users/au624601/PhD/data/irim/tmpForWrapper/ad...</td>\n",
       "      <td>0.0</td>\n",
       "      <td>2.0</td>\n",
       "      <td>300.0</td>\n",
       "      <td>12.834000</td>\n",
       "      <td>1.400000e+09</td>\n",
       "      <td>[1260, 1190, 1090, 1019, 990, 870, 780, 780, 6...</td>\n",
       "    </tr>\n",
       "    <tr>\n",
       "      <th>3</th>\n",
       "      <td>/Users/au624601/PhD/data/irim/tmpForWrapper/ad...</td>\n",
       "      <td>0.0</td>\n",
       "      <td>2.0</td>\n",
       "      <td>400.0</td>\n",
       "      <td>7.390000</td>\n",
       "      <td>2.140000e+09</td>\n",
       "      <td>[620, 540, 520, 520, 460, 320, 320, 320, 320, ...</td>\n",
       "    </tr>\n",
       "    <tr>\n",
       "      <th>4</th>\n",
       "      <td>/Users/au624601/PhD/data/irim/tmpForWrapper/ad...</td>\n",
       "      <td>0.0</td>\n",
       "      <td>3.0</td>\n",
       "      <td>100.0</td>\n",
       "      <td>3.330000</td>\n",
       "      <td>1.700000e+08</td>\n",
       "      <td>[150, 150, 110, 110, 110, 110, 110, 90, 60, 60...</td>\n",
       "    </tr>\n",
       "    <tr>\n",
       "      <th>5</th>\n",
       "      <td>/Users/au624601/PhD/data/irim/tmpForWrapper/ad...</td>\n",
       "      <td>0.0</td>\n",
       "      <td>3.0</td>\n",
       "      <td>200.0</td>\n",
       "      <td>3.735000</td>\n",
       "      <td>6.000000e+08</td>\n",
       "      <td>[230, 110, 110, 110, 110, 110, 110, 110, 110, ...</td>\n",
       "    </tr>\n",
       "    <tr>\n",
       "      <th>6</th>\n",
       "      <td>/Users/au624601/PhD/data/irim/tmpForWrapper/ad...</td>\n",
       "      <td>0.0</td>\n",
       "      <td>3.0</td>\n",
       "      <td>300.0</td>\n",
       "      <td>6.318667</td>\n",
       "      <td>1.530000e+09</td>\n",
       "      <td>[200, 200, 200, 200, 200, 200, 200, 200, 200, ...</td>\n",
       "    </tr>\n",
       "    <tr>\n",
       "      <th>7</th>\n",
       "      <td>/Users/au624601/PhD/data/irim/tmpForWrapper/ad...</td>\n",
       "      <td>0.0</td>\n",
       "      <td>3.0</td>\n",
       "      <td>400.0</td>\n",
       "      <td>17.442750</td>\n",
       "      <td>2.780000e+09</td>\n",
       "      <td>[810, 810, 1380, 1250, 1250, 1210, 1210, 1210,...</td>\n",
       "    </tr>\n",
       "    <tr>\n",
       "      <th>8</th>\n",
       "      <td>/Users/au624601/PhD/data/irim/tmpForWrapper/ad...</td>\n",
       "      <td>0.0</td>\n",
       "      <td>4.0</td>\n",
       "      <td>100.0</td>\n",
       "      <td>4.920000</td>\n",
       "      <td>1.000000e+07</td>\n",
       "      <td>[380, 330, 260, 210, 200, 200, 180, 120, 120, ...</td>\n",
       "    </tr>\n",
       "    <tr>\n",
       "      <th>9</th>\n",
       "      <td>/Users/au624601/PhD/data/irim/tmpForWrapper/ad...</td>\n",
       "      <td>0.0</td>\n",
       "      <td>4.0</td>\n",
       "      <td>200.0</td>\n",
       "      <td>7.395000</td>\n",
       "      <td>3.000000e+07</td>\n",
       "      <td>[600, 560, 490, 420, 420, 380, 380, 380, 380, ...</td>\n",
       "    </tr>\n",
       "    <tr>\n",
       "      <th>10</th>\n",
       "      <td>/Users/au624601/PhD/data/irim/tmpForWrapper/ad...</td>\n",
       "      <td>0.0</td>\n",
       "      <td>4.0</td>\n",
       "      <td>300.0</td>\n",
       "      <td>6.903333</td>\n",
       "      <td>3.000000e+07</td>\n",
       "      <td>[210, 910, 840, 520, 520, 520, 340, 310, 210, ...</td>\n",
       "    </tr>\n",
       "    <tr>\n",
       "      <th>11</th>\n",
       "      <td>/Users/au624601/PhD/data/irim/tmpForWrapper/ad...</td>\n",
       "      <td>0.0</td>\n",
       "      <td>4.0</td>\n",
       "      <td>400.0</td>\n",
       "      <td>5.752500</td>\n",
       "      <td>3.000000e+07</td>\n",
       "      <td>[220, 200, 200, 200, 200, 200, 200, 200, 200, ...</td>\n",
       "    </tr>\n",
       "    <tr>\n",
       "      <th>12</th>\n",
       "      <td>/Users/au624601/PhD/data/irim/tmpForWrapper/ad...</td>\n",
       "      <td>0.0</td>\n",
       "      <td>5.0</td>\n",
       "      <td>100.0</td>\n",
       "      <td>2.540000</td>\n",
       "      <td>6.000000e+07</td>\n",
       "      <td>[90, 90, 70, 70, 70, 70, 50, 50, 50, 50, 50, 5...</td>\n",
       "    </tr>\n",
       "    <tr>\n",
       "      <th>13</th>\n",
       "      <td>/Users/au624601/PhD/data/irim/tmpForWrapper/ad...</td>\n",
       "      <td>0.0</td>\n",
       "      <td>5.0</td>\n",
       "      <td>200.0</td>\n",
       "      <td>5.255000</td>\n",
       "      <td>2.300000e+08</td>\n",
       "      <td>[480, 360, 360, 220, 220, 170, 170, 160, 160, ...</td>\n",
       "    </tr>\n",
       "    <tr>\n",
       "      <th>14</th>\n",
       "      <td>/Users/au624601/PhD/data/irim/tmpForWrapper/ad...</td>\n",
       "      <td>0.0</td>\n",
       "      <td>5.0</td>\n",
       "      <td>300.0</td>\n",
       "      <td>11.576667</td>\n",
       "      <td>8.400000e+08</td>\n",
       "      <td>[1260, 1170, 1160, 1090, 1090, 1060, 930, 930,...</td>\n",
       "    </tr>\n",
       "    <tr>\n",
       "      <th>15</th>\n",
       "      <td>/Users/au624601/PhD/data/irim/tmpForWrapper/ad...</td>\n",
       "      <td>0.0</td>\n",
       "      <td>5.0</td>\n",
       "      <td>400.0</td>\n",
       "      <td>6.535000</td>\n",
       "      <td>1.090000e+09</td>\n",
       "      <td>[540, 340, 340, 340, 340, 310, 310, 310, 230, ...</td>\n",
       "    </tr>\n",
       "  </tbody>\n",
       "</table>\n",
       "</div>"
      ],
      "text/plain": [
       "                                       adversary file  dag traversal  mode  \\\n",
       "0   /Users/au624601/PhD/data/irim/tmpForWrapper/ad...            0.0   2.0   \n",
       "1   /Users/au624601/PhD/data/irim/tmpForWrapper/ad...            0.0   2.0   \n",
       "2   /Users/au624601/PhD/data/irim/tmpForWrapper/ad...            0.0   2.0   \n",
       "3   /Users/au624601/PhD/data/irim/tmpForWrapper/ad...            0.0   2.0   \n",
       "4   /Users/au624601/PhD/data/irim/tmpForWrapper/ad...            0.0   3.0   \n",
       "5   /Users/au624601/PhD/data/irim/tmpForWrapper/ad...            0.0   3.0   \n",
       "6   /Users/au624601/PhD/data/irim/tmpForWrapper/ad...            0.0   3.0   \n",
       "7   /Users/au624601/PhD/data/irim/tmpForWrapper/ad...            0.0   3.0   \n",
       "8   /Users/au624601/PhD/data/irim/tmpForWrapper/ad...            0.0   4.0   \n",
       "9   /Users/au624601/PhD/data/irim/tmpForWrapper/ad...            0.0   4.0   \n",
       "10  /Users/au624601/PhD/data/irim/tmpForWrapper/ad...            0.0   4.0   \n",
       "11  /Users/au624601/PhD/data/irim/tmpForWrapper/ad...            0.0   4.0   \n",
       "12  /Users/au624601/PhD/data/irim/tmpForWrapper/ad...            0.0   5.0   \n",
       "13  /Users/au624601/PhD/data/irim/tmpForWrapper/ad...            0.0   5.0   \n",
       "14  /Users/au624601/PhD/data/irim/tmpForWrapper/ad...            0.0   5.0   \n",
       "15  /Users/au624601/PhD/data/irim/tmpForWrapper/ad...            0.0   5.0   \n",
       "\n",
       "        n        rob       runtime  \\\n",
       "0   100.0   4.200000  1.400000e+08   \n",
       "1   200.0   5.492500  5.800000e+08   \n",
       "2   300.0  12.834000  1.400000e+09   \n",
       "3   400.0   7.390000  2.140000e+09   \n",
       "4   100.0   3.330000  1.700000e+08   \n",
       "5   200.0   3.735000  6.000000e+08   \n",
       "6   300.0   6.318667  1.530000e+09   \n",
       "7   400.0  17.442750  2.780000e+09   \n",
       "8   100.0   4.920000  1.000000e+07   \n",
       "9   200.0   7.395000  3.000000e+07   \n",
       "10  300.0   6.903333  3.000000e+07   \n",
       "11  400.0   5.752500  3.000000e+07   \n",
       "12  100.0   2.540000  6.000000e+07   \n",
       "13  200.0   5.255000  2.300000e+08   \n",
       "14  300.0  11.576667  8.400000e+08   \n",
       "15  400.0   6.535000  1.090000e+09   \n",
       "\n",
       "                                             sequence  \n",
       "0   [130, 80, 80, 80, 80, 80, 80, 80, 80, 80, 80, ...  \n",
       "1   [250, 240, 240, 240, 235, 240, 210, 210, 210, ...  \n",
       "2   [1260, 1190, 1090, 1019, 990, 870, 780, 780, 6...  \n",
       "3   [620, 540, 520, 520, 460, 320, 320, 320, 320, ...  \n",
       "4   [150, 150, 110, 110, 110, 110, 110, 90, 60, 60...  \n",
       "5   [230, 110, 110, 110, 110, 110, 110, 110, 110, ...  \n",
       "6   [200, 200, 200, 200, 200, 200, 200, 200, 200, ...  \n",
       "7   [810, 810, 1380, 1250, 1250, 1210, 1210, 1210,...  \n",
       "8   [380, 330, 260, 210, 200, 200, 180, 120, 120, ...  \n",
       "9   [600, 560, 490, 420, 420, 380, 380, 380, 380, ...  \n",
       "10  [210, 910, 840, 520, 520, 520, 340, 310, 210, ...  \n",
       "11  [220, 200, 200, 200, 200, 200, 200, 200, 200, ...  \n",
       "12  [90, 90, 70, 70, 70, 70, 50, 50, 50, 50, 50, 5...  \n",
       "13  [480, 360, 360, 220, 220, 170, 170, 160, 160, ...  \n",
       "14  [1260, 1170, 1160, 1090, 1090, 1060, 930, 930,...  \n",
       "15  [540, 340, 340, 340, 340, 310, 310, 310, 230, ...  "
      ]
     },
     "execution_count": 10,
     "metadata": {},
     "output_type": "execute_result"
    }
   ],
   "source": [
    "results"
   ]
  },
  {
   "cell_type": "code",
   "execution_count": 171,
   "metadata": {},
   "outputs": [
    {
     "data": {
      "image/png": "[encoded data removed]",
      "text/plain": [
       "<Figure size 432x288 with 1 Axes>"
      ]
     },
     "metadata": {
      "needs_background": "light"
     },
     "output_type": "display_data"
    },
    {
     "data": {
      "image/png": "[encoded data removed]",
      "text/plain": [
       "<Figure size 432x288 with 1 Axes>"
      ]
     },
     "metadata": {
      "needs_background": "light"
     },
     "output_type": "display_data"
    }
   ],
   "source": [
    "results[\"DAG operations\"] = results['time for building scc'] + results[\"dag traversal\"] + results['time for building edges']\n",
    "fields = ['time for building scc', \"dag traversal\", 'runtime', 'time for building edges',\"DAG operations\"]\n",
    "for mode in [2,3]:\n",
    "    for f in fields:\n",
    "        plt.plot(results[results['mode'] == mode][\"n\"], results[results['mode'] == mode][f],label=f)\n",
    "    plt.legend()\n",
    "    plt.title(lmap[mode])\n",
    "    plt.show()"
   ]
  },
  {
   "cell_type": "code",
   "execution_count": 97,
   "metadata": {},
   "outputs": [
    {
     "data": {
      "application/vnd.jupyter.widget-view+json": {
       "model_id": "70f9163ba82e40609ea3ae1918e35ae3",
       "version_major": 2,
       "version_minor": 0
      },
      "text/plain": [
       "HBox(children=(IntProgress(value=0, max=4), HTML(value='')))"
      ]
     },
     "metadata": {},
     "output_type": "display_data"
    },
    {
     "data": {
      "text/plain": [
       "Text(0, 0.5, 'E[s(Q)]')"
      ]
     },
     "execution_count": 97,
     "metadata": {},
     "output_type": "execute_result"
    },
    {
     "data": {
      "image/png": "[encoded data removed]",
      "text/plain": [
       "<Figure size 432x288 with 1 Axes>"
      ]
     },
     "metadata": {},
     "output_type": "display_data"
    }
   ],
   "source": [
    "for w in tqdm_notebook(np.arange(0.1,0.5,0.1)):\n",
    "    graph_params = {\n",
    "      \"graph_type\": \"gaussian_random_partition\",\n",
    "      \"weight_scale\": w,\n",
    "      \"random_weight\": 0,\n",
    "      \"n\": 1000,\n",
    "      \"s\": 15,\n",
    "      \"v\": 0.3,\n",
    "      \"p_in\": 0.05,\n",
    "      \"p_out\": 0.001\n",
    "    }\n",
    "    G = Generator(graph_params).get()\n",
    "\n",
    "    ns_s = NetShieldSolver(G,k=len(G)) # TODO NetShield is for directed or not\n",
    "    ns_s.run()\n",
    "    all_Q = ns_s.log[\"Blocked nodes\"]\n",
    "\n",
    "    r = RobustWrapper.run_rob(G, all_Q, 5)\n",
    "\n",
    "    plt.plot(r['sequence'], label=\"w={:0.2f}\".format(w))\n",
    "plt.legend()\n",
    "plt.xlabel(\"Q\")\n",
    "plt.ylabel(\"E[s(Q)]\")"
   ]
  },
  {
   "cell_type": "code",
   "execution_count": 103,
   "metadata": {},
   "outputs": [
    {
     "data": {
      "application/vnd.jupyter.widget-view+json": {
       "model_id": "5309fc8d17ed4b2fac239707a93fc426",
       "version_major": 2,
       "version_minor": 0
      },
      "text/plain": [
       "HBox(children=(IntProgress(value=0, max=4), HTML(value='')))"
      ]
     },
     "metadata": {},
     "output_type": "display_data"
    },
    {
     "data": {
      "text/plain": [
       "Text(0, 0.5, 'E[s(Q)]')"
      ]
     },
     "execution_count": 103,
     "metadata": {},
     "output_type": "execute_result"
    },
    {
     "data": {
      "image/png": "[encoded data removed]",
      "text/plain": [
       "<Figure size 432x288 with 1 Axes>"
      ]
     },
     "metadata": {},
     "output_type": "display_data"
    }
   ],
   "source": [
    "for w in tqdm_notebook(np.arange(0.0001,0.002,0.0005)):\n",
    "    graph_params = {\n",
    "      \"graph_type\": \"gaussian_random_partition\",\n",
    "      \"weight_scale\": 0.3,\n",
    "      \"random_weight\": 0,\n",
    "      \"n\": 1000,\n",
    "      \"s\": 15,\n",
    "      \"v\": 0.3,\n",
    "      \"p_in\": 0.05,\n",
    "      \"p_out\": w\n",
    "    }\n",
    "    G = Generator(graph_params).get()\n",
    "\n",
    "    ns_s = NetShieldSolver(G,k=len(G)) # TODO NetShield is for directed or not\n",
    "    ns_s.run()\n",
    "    all_Q = ns_s.log[\"Blocked nodes\"]\n",
    "\n",
    "    r = RobustWrapper.run_rob(G, all_Q, 5)\n",
    "\n",
    "    plt.plot(r['sequence'], label=\"p_out={:0.4f}\".format(w))\n",
    "plt.legend()\n",
    "plt.xlabel(\"Q\")\n",
    "plt.ylabel(\"E[s(Q)]\")"
   ]
  },
  {
   "cell_type": "markdown",
   "metadata": {},
   "source": [
    "### checking rim vs k"
   ]
  },
  {
   "cell_type": "code",
   "execution_count": 104,
   "metadata": {},
   "outputs": [],
   "source": [
    "def run_adv_robustness(G, k):\n",
    "    advs = {}\n",
    "    K = k\n",
    "\n",
    "    ns_s = NetShieldSolver(G,k=K)\n",
    "    ns_s.run()\n",
    "    advs[\"NetShield\"] = ns_s.log[\"Blocked nodes\"]\n",
    "\n",
    "    deg_s = DegreeSolver(G,k=K)\n",
    "    deg_s.run()\n",
    "    advs[\"Degree\"] = deg_s.log[\"Blocked nodes\"]\n",
    "\n",
    "    rn_s = RandomSolver(G,k=K)\n",
    "    rn_s.run()\n",
    "    advs[\"Random\"] = rn_s.log[\"Blocked nodes\"]\n",
    "\n",
    "    single_greedy_result = RobustWrapper.run_satgreedy(G, epsilon=0.2,\n",
    "                                                       number_of_seeds=1,\n",
    "                                                       blocked_dic_of_nodes=advs,\n",
    "                                                       beta=1, gamma=0.1, verbose=False)\n",
    "    \n",
    "    return single_greedy_result['satgreedy']['objective']"
   ]
  },
  {
   "cell_type": "code",
   "execution_count": 114,
   "metadata": {},
   "outputs": [
    {
     "data": {
      "application/vnd.jupyter.widget-view+json": {
       "model_id": "499eb33afa544cc8b4fe8b6bcbbab670",
       "version_major": 2,
       "version_minor": 0
      },
      "text/plain": [
       "HBox(children=(IntProgress(value=0, max=3), HTML(value='')))"
      ]
     },
     "metadata": {},
     "output_type": "display_data"
    },
    {
     "data": {
      "application/vnd.jupyter.widget-view+json": {
       "model_id": "f08ae50f65064b56a96506fb7dada109",
       "version_major": 2,
       "version_minor": 0
      },
      "text/plain": [
       "HBox(children=(IntProgress(value=0, max=34), HTML(value='')))"
      ]
     },
     "metadata": {},
     "output_type": "display_data"
    },
    {
     "data": {
      "application/vnd.jupyter.widget-view+json": {
       "model_id": "62755731157b431785c635dd404869f4",
       "version_major": 2,
       "version_minor": 0
      },
      "text/plain": [
       "HBox(children=(IntProgress(value=0, max=34), HTML(value='')))"
      ]
     },
     "metadata": {},
     "output_type": "display_data"
    },
    {
     "data": {
      "application/vnd.jupyter.widget-view+json": {
       "model_id": "5e6b31f81b92450483452156c6cd57d1",
       "version_major": 2,
       "version_minor": 0
      },
      "text/plain": [
       "HBox(children=(IntProgress(value=0, max=34), HTML(value='')))"
      ]
     },
     "metadata": {},
     "output_type": "display_data"
    }
   ],
   "source": [
    "all_r = []\n",
    "for m in tqdm_notebook(range(2,10,3)):\n",
    "    graph_params = {\n",
    "        \"graph_type\": \"powerlaw_cluster\",\n",
    "        \"weight_scale\": 0.5,\n",
    "        \"both_directions\": 0,\n",
    "        \"random_weight\": 0,\n",
    "        \"n\": 1000,\n",
    "        \"p\": 0.4,\n",
    "        \"m\": m\n",
    "    }\n",
    "    G = Generator(graph_params).get()\n",
    "\n",
    "    r = []\n",
    "    for k in tqdm_notebook(range(1,int(len(G)/3),10)):\n",
    "        r.append((k, run_adv_robustness(G, k)))\n",
    "    r = np.array(r)\n",
    "    all_r.append(r)"
   ]
  },
  {
   "cell_type": "code",
   "execution_count": 116,
   "metadata": {},
   "outputs": [
    {
     "data": {
      "text/plain": [
       "Text(0, 0.5, 'RIM [Expected Spread]')"
      ]
     },
     "execution_count": 116,
     "metadata": {},
     "output_type": "execute_result"
    },
    {
     "data": {
      "image/png": "[encoded data removed]",
      "text/plain": [
       "<Figure size 432x288 with 1 Axes>"
      ]
     },
     "metadata": {},
     "output_type": "display_data"
    }
   ],
   "source": [
    "m = list(range(2,10,3))\n",
    "i = 0\n",
    "for r in all_r:\n",
    "    plt.plot(r[:,0], r[:,1]*1000, label=\"m={}\".format(m[i]))\n",
    "    i+=1\n",
    "plt.xlim((0,1000))\n",
    "plt.legend()\n",
    "plt.xlabel(\"k\")\n",
    "plt.ylabel(\"RIM [Expected Spread]\")"
   ]
  },
  {
   "cell_type": "code",
   "execution_count": null,
   "metadata": {},
   "outputs": [],
   "source": []
  },
  {
   "cell_type": "code",
   "execution_count": 25,
   "metadata": {},
   "outputs": [
    {
     "data": {
      "application/vnd.jupyter.widget-view+json": {
       "model_id": "7262e223222f42c09c75c72cac800414",
       "version_major": 2,
       "version_minor": 0
      },
      "text/plain": [
       "HBox(children=(IntProgress(value=0, max=9), HTML(value='')))"
      ]
     },
     "metadata": {},
     "output_type": "display_data"
    },
    {
     "data": {
      "application/vnd.jupyter.widget-view+json": {
       "model_id": "b3bb1574efb8453caea75ebab5661222",
       "version_major": 2,
       "version_minor": 0
      },
      "text/plain": [
       "HBox(children=(IntProgress(value=0, max=9), HTML(value='')))"
      ]
     },
     "metadata": {},
     "output_type": "display_data"
    },
    {
     "data": {
      "application/vnd.jupyter.widget-view+json": {
       "model_id": "640185d0219f42579a4f93c500e19e20",
       "version_major": 2,
       "version_minor": 0
      },
      "text/plain": [
       "HBox(children=(IntProgress(value=0, max=9), HTML(value='')))"
      ]
     },
     "metadata": {},
     "output_type": "display_data"
    },
    {
     "data": {
      "application/vnd.jupyter.widget-view+json": {
       "model_id": "250aed16601949c9bae33a4b1429dd61",
       "version_major": 2,
       "version_minor": 0
      },
      "text/plain": [
       "HBox(children=(IntProgress(value=0, max=9), HTML(value='')))"
      ]
     },
     "metadata": {},
     "output_type": "display_data"
    }
   ],
   "source": [
    "results_all_imm = []\n",
    "for i in range(0,10,3):\n",
    "    results2 = []\n",
    "    for p in tqdm_notebook(np.arange(0.1,1,0.1)):\n",
    "        nx.set_edge_attributes(G,p,\"weight\")\n",
    "        r = run_adv_robustness(G, i)\n",
    "        results2.append((p,r))\n",
    "    results2 = np.array(results2)\n",
    "    results_all_imm.append(results2)"
   ]
  },
  {
   "cell_type": "code",
   "execution_count": 37,
   "metadata": {},
   "outputs": [
    {
     "data": {
      "text/plain": [
       "Text(0, 0.5, 'Expected number of nodes')"
      ]
     },
     "execution_count": 37,
     "metadata": {},
     "output_type": "execute_result"
    },
    {
     "data": {
      "image/png": "[encoded data removed]",
      "text/plain": [
       "<Figure size 432x288 with 1 Axes>"
      ]
     },
     "metadata": {
      "needs_background": "light"
     },
     "output_type": "display_data"
    }
   ],
   "source": [
    "plt.plot(results[:,0],results[:,2],label=\"EMST\")\n",
    "j = 0\n",
    "for i in range(0,10,3):\n",
    "    plt.plot(results_all_imm[j][:,0],results_all_imm[j][:,1]*len(G),label=\"RIM{}\".format(i))\n",
    "    j += 1\n",
    "plt.legend()\n",
    "plt.xlabel(\"p\")\n",
    "plt.ylabel(\"Expected number of nodes\")"
   ]
  },
  {
   "cell_type": "code",
   "execution_count": 41,
   "metadata": {},
   "outputs": [
    {
     "data": {
      "application/vnd.jupyter.widget-view+json": {
       "model_id": "7efd8f74307c499797b65241d3546218",
       "version_major": 2,
       "version_minor": 0
      },
      "text/plain": [
       "HBox(children=(IntProgress(value=0, max=6), HTML(value='')))"
      ]
     },
     "metadata": {},
     "output_type": "display_data"
    }
   ],
   "source": [
    "# study generator parameters\n",
    "results = []\n",
    "for m in tqdm_notebook(range(1,30,5)):\n",
    "    graph_params = {\n",
    "        \"graph_type\": \"powerlaw_cluster\",\n",
    "        \"weight_scale\": 0.3,\n",
    "        \"both_directions\": 0,\n",
    "        \"random_weight\": 0,\n",
    "        \"n\": 1000,\n",
    "        \"p\": 0.4,\n",
    "        \"m\": m\n",
    "    }\n",
    "    G = Generator(graph_params).get()\n",
    "    k = 10 # make random?\n",
    "    rim = run_adv_robustness(G, k)\n",
    "    \n",
    "    ns_s = NetShieldSolver(G,k=len(G)) # TODO NetShield is for directed or not\n",
    "    ns_s.run()\n",
    "    all_Q = ns_s.log[\"Blocked nodes\"]\n",
    "    r = RobustWrapper.run_rob(G, all_Q, 5)\n",
    "    \n",
    "    results.append((m, rim, r['rob']))\n",
    "results = np.array(results)"
   ]
  },
  {
   "cell_type": "code",
   "execution_count": 48,
   "metadata": {},
   "outputs": [
    {
     "ename": "IndexError",
     "evalue": "index 2 is out of bounds for axis 1 with size 2",
     "output_type": "error",
     "traceback": [
      "\u001b[0;31m---------------------------------------------------------------------------\u001b[0m",
      "\u001b[0;31mIndexError\u001b[0m                                Traceback (most recent call last)",
      "\u001b[0;32m<ipython-input-48-fd80a2177652>\u001b[0m in \u001b[0;36m<module>\u001b[0;34m()\u001b[0m\n\u001b[0;32m----> 1\u001b[0;31m \u001b[0mdf\u001b[0m \u001b[0;34m=\u001b[0m \u001b[0mpd\u001b[0m\u001b[0;34m.\u001b[0m\u001b[0mDataFrame\u001b[0m\u001b[0;34m(\u001b[0m\u001b[0;34m{\u001b[0m\u001b[0;34m'm'\u001b[0m\u001b[0;34m:\u001b[0m \u001b[0mresults\u001b[0m\u001b[0;34m[\u001b[0m\u001b[0;34m:\u001b[0m\u001b[0;34m,\u001b[0m\u001b[0;36m0\u001b[0m\u001b[0;34m]\u001b[0m\u001b[0;34m,\u001b[0m \u001b[0;34m\"RIM\"\u001b[0m\u001b[0;34m:\u001b[0m \u001b[0mresults\u001b[0m\u001b[0;34m[\u001b[0m\u001b[0;34m:\u001b[0m\u001b[0;34m,\u001b[0m\u001b[0;36m1\u001b[0m\u001b[0;34m]\u001b[0m\u001b[0;34m,\u001b[0m \u001b[0;34m\"ESMT\"\u001b[0m\u001b[0;34m:\u001b[0m \u001b[0mresults\u001b[0m\u001b[0;34m[\u001b[0m\u001b[0;34m:\u001b[0m\u001b[0;34m,\u001b[0m\u001b[0;36m2\u001b[0m\u001b[0;34m]\u001b[0m\u001b[0;34m}\u001b[0m\u001b[0;34m)\u001b[0m\u001b[0;34m\u001b[0m\u001b[0;34m\u001b[0m\u001b[0m\n\u001b[0m\u001b[1;32m      2\u001b[0m \u001b[0mpd\u001b[0m\u001b[0;34m.\u001b[0m\u001b[0mscatter_matrix\u001b[0m\u001b[0;34m(\u001b[0m\u001b[0mdf\u001b[0m\u001b[0;34m,\u001b[0m \u001b[0mfigsize\u001b[0m\u001b[0;34m=\u001b[0m\u001b[0;34m(\u001b[0m\u001b[0;36m6\u001b[0m\u001b[0;34m,\u001b[0m \u001b[0;36m6\u001b[0m\u001b[0;34m)\u001b[0m\u001b[0;34m)\u001b[0m\u001b[0;34m\u001b[0m\u001b[0;34m\u001b[0m\u001b[0m\n\u001b[1;32m      3\u001b[0m \u001b[0mplt\u001b[0m\u001b[0;34m.\u001b[0m\u001b[0mshow\u001b[0m\u001b[0;34m(\u001b[0m\u001b[0;34m)\u001b[0m\u001b[0;34m\u001b[0m\u001b[0;34m\u001b[0m\u001b[0m\n",
      "\u001b[0;31mIndexError\u001b[0m: index 2 is out of bounds for axis 1 with size 2"
     ]
    }
   ],
   "source": [
    "df = pd.DataFrame({'m': results[:,0], \"RIM\": results[:,1], \"ESMT\": results[:,2]})\n",
    "pd.scatter_matrix(df, figsize=(6, 6))\n",
    "plt.show()"
   ]
  },
  {
   "cell_type": "markdown",
   "metadata": {},
   "source": [
    "m number of edges correlates as parabola with RIM - robust influence maximization, and linearly with EBST - maximum tree in a graph. That means RIM with EBST do not correlate."
   ]
  },
  {
   "cell_type": "code",
   "execution_count": 43,
   "metadata": {},
   "outputs": [
    {
     "data": {
      "text/html": [
       "<div>\n",
       "<style scoped>\n",
       "    .dataframe tbody tr th:only-of-type {\n",
       "        vertical-align: middle;\n",
       "    }\n",
       "\n",
       "    .dataframe tbody tr th {\n",
       "        vertical-align: top;\n",
       "    }\n",
       "\n",
       "    .dataframe thead th {\n",
       "        text-align: right;\n",
       "    }\n",
       "</style>\n",
       "<table border=\"1\" class=\"dataframe\">\n",
       "  <thead>\n",
       "    <tr style=\"text-align: right;\">\n",
       "      <th></th>\n",
       "      <th>m</th>\n",
       "      <th>EMST</th>\n",
       "      <th>RIM</th>\n",
       "    </tr>\n",
       "  </thead>\n",
       "  <tbody>\n",
       "    <tr>\n",
       "      <th>m</th>\n",
       "      <td>1.000000</td>\n",
       "      <td>0.864056</td>\n",
       "      <td>0.990256</td>\n",
       "    </tr>\n",
       "    <tr>\n",
       "      <th>EMST</th>\n",
       "      <td>0.864056</td>\n",
       "      <td>1.000000</td>\n",
       "      <td>0.866133</td>\n",
       "    </tr>\n",
       "    <tr>\n",
       "      <th>RIM</th>\n",
       "      <td>0.990256</td>\n",
       "      <td>0.866133</td>\n",
       "      <td>1.000000</td>\n",
       "    </tr>\n",
       "  </tbody>\n",
       "</table>\n",
       "</div>"
      ],
      "text/plain": [
       "             m      EMST       RIM\n",
       "m     1.000000  0.864056  0.990256\n",
       "EMST  0.864056  1.000000  0.866133\n",
       "RIM   0.990256  0.866133  1.000000"
      ]
     },
     "execution_count": 43,
     "metadata": {},
     "output_type": "execute_result"
    }
   ],
   "source": [
    "df.corr()"
   ]
  },
  {
   "cell_type": "markdown",
   "metadata": {},
   "source": [
    "Perfect correlation of RIM with m??? m is number of edges"
   ]
  },
  {
   "cell_type": "code",
   "execution_count": 44,
   "metadata": {},
   "outputs": [
    {
     "data": {
      "application/vnd.jupyter.widget-view+json": {
       "model_id": "fc2d2b202ff34383b31a5707b12cd60c",
       "version_major": 2,
       "version_minor": 0
      },
      "text/plain": [
       "HBox(children=(IntProgress(value=0, max=6), HTML(value='')))"
      ]
     },
     "metadata": {},
     "output_type": "display_data"
    }
   ],
   "source": [
    "results = []\n",
    "for m in tqdm_notebook(range(1,30,5)):\n",
    "    graph_params = {\n",
    "        \"graph_type\": \"powerlaw_cluster\",\n",
    "        \"weight_scale\": 0.3,\n",
    "        \"both_directions\": 0,\n",
    "        \"random_weight\": 0,\n",
    "        \"n\": 1000,\n",
    "        \"p\": 0.4,\n",
    "        \"m\": m\n",
    "    }\n",
    "    G = Generator(graph_params).get()\n",
    "    k = 50 # make random?\n",
    "    rim = run_adv_robustness(G, k)\n",
    "    \n",
    "#     ns_s = NetShieldSolver(G,k=len(G)) # TODO NetShield is for directed or not\n",
    "#     ns_s.run()\n",
    "#     all_Q = ns_s.log[\"Blocked nodes\"]\n",
    "#     r = RobustWrapper.run_rob(G, all_Q, 5)\n",
    "    \n",
    "    results.append((m, rim))\n",
    "results = np.array(results)"
   ]
  },
  {
   "cell_type": "code",
   "execution_count": 45,
   "metadata": {},
   "outputs": [
    {
     "name": "stderr",
     "output_type": "stream",
     "text": [
      "/usr/local/lib/python3.7/site-packages/ipykernel_launcher.py:2: FutureWarning: pandas.scatter_matrix is deprecated, use pandas.plotting.scatter_matrix instead\n",
      "  \n"
     ]
    },
    {
     "data": {
      "image/png": "[encoded data removed]",
      "text/plain": [
       "<Figure size 432x432 with 4 Axes>"
      ]
     },
     "metadata": {
      "needs_background": "light"
     },
     "output_type": "display_data"
    },
    {
     "data": {
      "text/html": [
       "<div>\n",
       "<style scoped>\n",
       "    .dataframe tbody tr th:only-of-type {\n",
       "        vertical-align: middle;\n",
       "    }\n",
       "\n",
       "    .dataframe tbody tr th {\n",
       "        vertical-align: top;\n",
       "    }\n",
       "\n",
       "    .dataframe thead th {\n",
       "        text-align: right;\n",
       "    }\n",
       "</style>\n",
       "<table border=\"1\" class=\"dataframe\">\n",
       "  <thead>\n",
       "    <tr style=\"text-align: right;\">\n",
       "      <th></th>\n",
       "      <th>m</th>\n",
       "      <th>RIM</th>\n",
       "    </tr>\n",
       "  </thead>\n",
       "  <tbody>\n",
       "    <tr>\n",
       "      <th>m</th>\n",
       "      <td>1.000000</td>\n",
       "      <td>0.918835</td>\n",
       "    </tr>\n",
       "    <tr>\n",
       "      <th>RIM</th>\n",
       "      <td>0.918835</td>\n",
       "      <td>1.000000</td>\n",
       "    </tr>\n",
       "  </tbody>\n",
       "</table>\n",
       "</div>"
      ],
      "text/plain": [
       "            m       RIM\n",
       "m    1.000000  0.918835\n",
       "RIM  0.918835  1.000000"
      ]
     },
     "execution_count": 45,
     "metadata": {},
     "output_type": "execute_result"
    }
   ],
   "source": [
    "df = pd.DataFrame({'m': results[:,0], \"RIM\": results[:,1]})\n",
    "pd.scatter_matrix(df, figsize=(6, 6))\n",
    "plt.show()\n",
    "df.corr()"
   ]
  },
  {
   "cell_type": "code",
   "execution_count": 46,
   "metadata": {},
   "outputs": [
    {
     "data": {
      "application/vnd.jupyter.widget-view+json": {
       "model_id": "002d7a4a80fe4f8f8d8f6b9608aa95d5",
       "version_major": 2,
       "version_minor": 0
      },
      "text/plain": [
       "HBox(children=(IntProgress(value=0, max=6), HTML(value='')))"
      ]
     },
     "metadata": {},
     "output_type": "display_data"
    }
   ],
   "source": [
    "results = []\n",
    "for m in tqdm_notebook(range(1,30,5)):\n",
    "    graph_params = {\n",
    "        \"graph_type\": \"powerlaw_cluster\",\n",
    "        \"weight_scale\": 0.3,\n",
    "        \"both_directions\": 0,\n",
    "        \"random_weight\": 0,\n",
    "        \"n\": 1000,\n",
    "        \"p\": 0.4,\n",
    "        \"m\": m\n",
    "    }\n",
    "    G = Generator(graph_params).get()\n",
    "    k = 0 # make random?\n",
    "    rim = run_adv_robustness(G, k)\n",
    "    \n",
    "#     ns_s = NetShieldSolver(G,k=len(G)) # TODO NetShield is for directed or not\n",
    "#     ns_s.run()\n",
    "#     all_Q = ns_s.log[\"Blocked nodes\"]\n",
    "#     r = RobustWrapper.run_rob(G, all_Q, 5)\n",
    "    \n",
    "    results.append((m, rim))\n",
    "results = np.array(results)"
   ]
  },
  {
   "cell_type": "code",
   "execution_count": 47,
   "metadata": {},
   "outputs": [
    {
     "name": "stderr",
     "output_type": "stream",
     "text": [
      "/usr/local/lib/python3.7/site-packages/ipykernel_launcher.py:2: FutureWarning: pandas.scatter_matrix is deprecated, use pandas.plotting.scatter_matrix instead\n",
      "  \n"
     ]
    },
    {
     "data": {
      "image/png": "[encoded data removed]",
      "text/plain": [
       "<Figure size 432x432 with 4 Axes>"
      ]
     },
     "metadata": {
      "needs_background": "light"
     },
     "output_type": "display_data"
    },
    {
     "data": {
      "text/html": [
       "<div>\n",
       "<style scoped>\n",
       "    .dataframe tbody tr th:only-of-type {\n",
       "        vertical-align: middle;\n",
       "    }\n",
       "\n",
       "    .dataframe tbody tr th {\n",
       "        vertical-align: top;\n",
       "    }\n",
       "\n",
       "    .dataframe thead th {\n",
       "        text-align: right;\n",
       "    }\n",
       "</style>\n",
       "<table border=\"1\" class=\"dataframe\">\n",
       "  <thead>\n",
       "    <tr style=\"text-align: right;\">\n",
       "      <th></th>\n",
       "      <th>m</th>\n",
       "      <th>RIM</th>\n",
       "    </tr>\n",
       "  </thead>\n",
       "  <tbody>\n",
       "    <tr>\n",
       "      <th>m</th>\n",
       "      <td>1.000000</td>\n",
       "      <td>0.825358</td>\n",
       "    </tr>\n",
       "    <tr>\n",
       "      <th>RIM</th>\n",
       "      <td>0.825358</td>\n",
       "      <td>1.000000</td>\n",
       "    </tr>\n",
       "  </tbody>\n",
       "</table>\n",
       "</div>"
      ],
      "text/plain": [
       "            m       RIM\n",
       "m    1.000000  0.825358\n",
       "RIM  0.825358  1.000000"
      ]
     },
     "execution_count": 47,
     "metadata": {},
     "output_type": "execute_result"
    }
   ],
   "source": [
    "df = pd.DataFrame({'m': results[:,0], \"RIM\": results[:,1]})\n",
    "pd.scatter_matrix(df, figsize=(6, 6))\n",
    "plt.show()\n",
    "df.corr()"
   ]
  },
  {
   "cell_type": "code",
   "execution_count": null,
   "metadata": {},
   "outputs": [],
   "source": [
    "# immunization against any of those types?\n",
    "# random-random case? "
   ]
  }
 ],
 "metadata": {
  "kernelspec": {
   "display_name": "Python 3",
   "language": "python",
   "name": "python3"
  },
  "language_info": {
   "codemirror_mode": {
    "name": "ipython",
    "version": 3
   },
   "file_extension": ".py",
   "mimetype": "text/x-python",
   "name": "python",
   "nbconvert_exporter": "python",
   "pygments_lexer": "ipython3",
   "version": "3.7.5"
  }
 },
 "nbformat": 4,
 "nbformat_minor": 2
}
